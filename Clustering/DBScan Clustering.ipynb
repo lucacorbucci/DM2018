{
 "cells": [
  {
   "cell_type": "code",
   "execution_count": 5,
   "metadata": {},
   "outputs": [],
   "source": [
    "import pandas as pd \n",
    "\n",
    "import matplotlib.pyplot as plt\n",
    "import seaborn as sns\n",
    "plt.style.use('seaborn-paper')\n",
    "%matplotlib inline\n",
    "import numpy as np\n",
    "\n",
    "from sklearn import preprocessing\n",
    "from pandas.plotting import scatter_matrix\n",
    "\n",
    "from sklearn import preprocessing\n",
    "from pandas.plotting import scatter_matrix\n",
    "from sklearn.preprocessing import MinMaxScaler\n",
    "from sklearn.preprocessing import LabelEncoder\n",
    "from pandas.plotting import scatter_matrix\n",
    "\n",
    "from sklearn.cluster import KMeans\n",
    "from sklearn.metrics import silhouette_score\n",
    "from sklearn.cluster import DBSCAN\n",
    "from scipy.spatial.distance import pdist, squareform"
   ]
  },
  {
   "cell_type": "code",
   "execution_count": 2,
   "metadata": {},
   "outputs": [],
   "source": [
    "plt.rcParams.update(plt.rcParamsDefault)"
   ]
  },
  {
   "cell_type": "markdown",
   "metadata": {},
   "source": [
    "### Preparazione del dataset"
   ]
  },
  {
   "cell_type": "code",
   "execution_count": 3,
   "metadata": {},
   "outputs": [
    {
     "data": {
      "text/html": [
       "<div>\n",
       "<style scoped>\n",
       "    .dataframe tbody tr th:only-of-type {\n",
       "        vertical-align: middle;\n",
       "    }\n",
       "\n",
       "    .dataframe tbody tr th {\n",
       "        vertical-align: top;\n",
       "    }\n",
       "\n",
       "    .dataframe thead th {\n",
       "        text-align: right;\n",
       "    }\n",
       "</style>\n",
       "<table border=\"1\" class=\"dataframe\">\n",
       "  <thead>\n",
       "    <tr style=\"text-align: right;\">\n",
       "      <th></th>\n",
       "      <th>limit</th>\n",
       "      <th>ba-aug</th>\n",
       "      <th>pa-sep</th>\n",
       "      <th>credit_default</th>\n",
       "    </tr>\n",
       "  </thead>\n",
       "  <tbody>\n",
       "    <tr>\n",
       "      <th>0</th>\n",
       "      <td>50000</td>\n",
       "      <td>49985</td>\n",
       "      <td>2130</td>\n",
       "      <td>0</td>\n",
       "    </tr>\n",
       "    <tr>\n",
       "      <th>1</th>\n",
       "      <td>200000</td>\n",
       "      <td>9981</td>\n",
       "      <td>10120</td>\n",
       "      <td>0</td>\n",
       "    </tr>\n",
       "    <tr>\n",
       "      <th>2</th>\n",
       "      <td>30000</td>\n",
       "      <td>29280</td>\n",
       "      <td>0</td>\n",
       "      <td>0</td>\n",
       "    </tr>\n",
       "    <tr>\n",
       "      <th>3</th>\n",
       "      <td>140000</td>\n",
       "      <td>41717</td>\n",
       "      <td>2000</td>\n",
       "      <td>0</td>\n",
       "    </tr>\n",
       "    <tr>\n",
       "      <th>4</th>\n",
       "      <td>60000</td>\n",
       "      <td>48716</td>\n",
       "      <td>1788</td>\n",
       "      <td>1</td>\n",
       "    </tr>\n",
       "  </tbody>\n",
       "</table>\n",
       "</div>"
      ],
      "text/plain": [
       "    limit  ba-aug  pa-sep  credit_default\n",
       "0   50000   49985    2130               0\n",
       "1  200000    9981   10120               0\n",
       "2   30000   29280       0               0\n",
       "3  140000   41717    2000               0\n",
       "4   60000   48716    1788               1"
      ]
     },
     "execution_count": 3,
     "metadata": {},
     "output_type": "execute_result"
    }
   ],
   "source": [
    "\n",
    "df = pd.read_csv(\"ridotto.csv\")\n",
    "#del df['credit_default']\n",
    "del df['sex']\n",
    "del df['education']\n",
    "del df['status']\n",
    "del df['age']\n",
    "del df['ps-sep']\n",
    "\n",
    "df.head()"
   ]
  },
  {
   "cell_type": "code",
   "execution_count": 7,
   "metadata": {},
   "outputs": [
    {
     "name": "stderr",
     "output_type": "stream",
     "text": [
      "/usr/local/lib/python2.7/site-packages/sklearn/utils/validation.py:475: DataConversionWarning: Data with input dtype int64 was converted to float64 by MinMaxScaler.\n",
      "  warnings.warn(msg, DataConversionWarning)\n"
     ]
    }
   ],
   "source": [
    "scaler = MinMaxScaler()\n",
    "X = scaler.fit_transform(df.iloc[:,0:3].values)"
   ]
  },
  {
   "cell_type": "markdown",
   "metadata": {},
   "source": [
    "### DBScan"
   ]
  },
  {
   "cell_type": "code",
   "execution_count": 8,
   "metadata": {},
   "outputs": [],
   "source": [
    "dist = pdist(X, 'euclidean')\n",
    "dist = squareform(dist)"
   ]
  },
  {
   "cell_type": "code",
   "execution_count": 9,
   "metadata": {},
   "outputs": [],
   "source": [
    "# Stimare il migliore eps\n",
    "\n",
    "dist = pdist(X, 'euclidean')\n",
    "dist = squareform(dist)\n",
    "\n",
    "k = 5\n",
    "kth_distances = list()\n",
    "for d in dist:\n",
    "    index_kth_distance = np.argsort(d)[k]\n",
    "    kth_distances.append(d[index_kth_distance])"
   ]
  },
  {
   "cell_type": "code",
   "execution_count": 10,
   "metadata": {},
   "outputs": [
    {
     "data": {
      "image/png": "[encoded data removed]",
      "text/plain": [
       "<Figure size 576x288 with 1 Axes>"
      ]
     },
     "metadata": {
      "needs_background": "light"
     },
     "output_type": "display_data"
    }
   ],
   "source": [
    "plt.figure(figsize=(8,4))\n",
    "plt.plot(range(0, len(kth_distances)), sorted(kth_distances))\n",
    "plt.ylabel('dist from %sth neighbor' % k, fontsize=15)\n",
    "plt.xlabel('sorted distances', fontsize=15)\n",
    "plt.tick_params(axis='both', which='major', labelsize=18)\n",
    "plt.show()"
   ]
  },
  {
   "cell_type": "code",
   "execution_count": 11,
   "metadata": {},
   "outputs": [
    {
     "name": "stderr",
     "output_type": "stream",
     "text": [
      "/usr/local/lib/python2.7/site-packages/ipykernel_launcher.py:10: MatplotlibDeprecationWarning: numpy.arange\n",
      "  # Remove the CWD from sys.path while we load stuff.\n"
     ]
    }
   ],
   "source": [
    "\n",
    "import pylab as pl\n",
    "values = []\n",
    "sil = []\n",
    "possibleK = [5,15,50,70,100,130,160,200,240,250]\n",
    "\n",
    "for item in possibleK:\n",
    "    silh = []\n",
    "    valuestemp = []\n",
    "    for i in pl.frange(0.05,0.25,0.01):\n",
    "        dbscan = DBSCAN(eps=i, min_samples=item)\n",
    "        dbscan.fit(X)\n",
    "\n",
    "        silh.append(silhouette_score(X, dbscan.labels_))\n",
    "        valuestemp.append(i)\n",
    "    sil.append(silh)\n",
    "    values.append(valuestemp)"
   ]
  },
  {
   "cell_type": "code",
   "execution_count": 12,
   "metadata": {},
   "outputs": [
    {
     "data": {
      "image/png": "[encoded data removed]",
      "text/plain": [
       "<Figure size 864x360 with 1 Axes>"
      ]
     },
     "metadata": {
      "needs_background": "light"
     },
     "output_type": "display_data"
    }
   ],
   "source": [
    "fig, ax1 = plt.subplots(figsize=(12, 5))\n",
    "t = np.arange(0.05, 0.25, 0.01)\n",
    "color = 'tab:olive'\n",
    "ax1.set_xlabel('K')\n",
    "ax1.set_ylabel('Silhouette', color=color)\n",
    "ax1.plot(t, sil[0][:20], color=color)\n",
    "ax1.tick_params(axis='y', labelcolor=color)\n",
    "\n",
    "\n",
    "\n",
    "t = np.arange(0.05, 0.25, 0.01)\n",
    "color = 'tab:grey'\n",
    "ax1.set_xlabel('K')\n",
    "ax1.set_ylabel('Silhouette', color=color)\n",
    "ax1.plot(t, sil[1][:20], color=color)\n",
    "ax1.tick_params(axis='y', labelcolor=color)\n",
    "\n",
    "\n",
    "t = np.arange(0.05, 0.25, 0.01)\n",
    "color = 'tab:red'\n",
    "ax1.set_xlabel('K')\n",
    "ax1.set_ylabel('Silhouette', color=color)\n",
    "ax1.plot(t, sil[2][:20], color=color)\n",
    "ax1.tick_params(axis='y', labelcolor=color)\n",
    "\n",
    "\n",
    "t = np.arange(0.05, 0.25, 0.01)\n",
    "color = 'tab:orange'\n",
    "ax1.set_xlabel('K')\n",
    "ax1.set_ylabel('Silhouette', color=color)\n",
    "ax1.plot(t, sil[3][:20], color=color)\n",
    "ax1.tick_params(axis='y', labelcolor=color)\n",
    "\n",
    "\n",
    "t = np.arange(0.05, 0.25, 0.01)\n",
    "color = 'tab:blue'\n",
    "ax1.set_xlabel('K')\n",
    "ax1.set_ylabel('Silhouette', color=color)\n",
    "ax1.plot(t, sil[4][:20], color=color)\n",
    "ax1.tick_params(axis='y', labelcolor=color)\n",
    "\n",
    "t = np.arange(0.05, 0.25, 0.01)\n",
    "color = 'tab:pink'\n",
    "ax1.set_xlabel('K')\n",
    "ax1.set_ylabel('Silhouette', color=color)\n",
    "ax1.plot(t, sil[5][:20], color=color)\n",
    "ax1.tick_params(axis='y', labelcolor=color)\n",
    "\n",
    "\n",
    "t = np.arange(0.05, 0.25, 0.01)\n",
    "color = 'tab:green'\n",
    "ax1.set_xlabel('K')\n",
    "ax1.set_ylabel('Silhouette', color=color)\n",
    "ax1.plot(t, sil[6][:20], color=color)\n",
    "ax1.tick_params(axis='y', labelcolor=color)\n",
    "\n",
    "\n",
    "t = np.arange(0.05, 0.25, 0.01)\n",
    "color = 'tab:cyan'\n",
    "ax1.set_xlabel('K')\n",
    "ax1.set_ylabel('Silhouette', color=color)\n",
    "ax1.plot(t, sil[7][:20], color=color)\n",
    "ax1.tick_params(axis='y', labelcolor=color)\n",
    "\n",
    "\n",
    "t = np.arange(0.05, 0.25, 0.01)\n",
    "color = 'tab:brown'\n",
    "ax1.set_xlabel('K')\n",
    "ax1.set_ylabel('Silhouette', color=color)\n",
    "ax1.plot(t, sil[8][:20], color=color)\n",
    "ax1.tick_params(axis='y', labelcolor=color)\n",
    "\n",
    "\n",
    "t = np.arange(0.05, 0.25, 0.01)\n",
    "color = 'tab:purple'\n",
    "ax1.set_xlabel('K')\n",
    "ax1.set_ylabel('Silhouette', color=color)\n",
    "ax1.plot(t, sil[9][:20], color=color)\n",
    "ax1.tick_params(axis='y', labelcolor=color)\n",
    "\n",
    "fig.tight_layout()  # otherwise the right y-label is slightly clipped\n",
    "plt.show()"
   ]
  },
  {
   "cell_type": "markdown",
   "metadata": {},
   "source": [
    "### Prima prova con DBScan "
   ]
  },
  {
   "cell_type": "code",
   "execution_count": 13,
   "metadata": {},
   "outputs": [
    {
     "data": {
      "text/plain": [
       "(array([-1,  0]), array([  35, 9965]))"
      ]
     },
     "execution_count": 13,
     "metadata": {},
     "output_type": "execute_result"
    }
   ],
   "source": [
    "\n",
    "dbscan = DBSCAN(eps=0.225, min_samples=240)\n",
    "dbscan.fit(X)\n",
    "\n",
    "np.unique(dbscan.labels_, return_counts=True)"
   ]
  },
  {
   "cell_type": "code",
   "execution_count": 14,
   "metadata": {},
   "outputs": [
    {
     "data": {
      "image/png": "[encoded data removed]",
      "text/plain": [
       "<Figure size 432x288 with 1 Axes>"
      ]
     },
     "metadata": {
      "needs_background": "light"
     },
     "output_type": "display_data"
    }
   ],
   "source": [
    "plt.scatter(df['limit'], df['ba-aug'], c=dbscan.labels_, s=20)\n",
    "plt.tick_params(axis='both', which='major', labelsize=22)\n",
    "plt.show()"
   ]
  },
  {
   "cell_type": "code",
   "execution_count": 15,
   "metadata": {},
   "outputs": [
    {
     "name": "stdout",
     "output_type": "stream",
     "text": [
      "Silhouette 0.692508417070838\n"
     ]
    }
   ],
   "source": [
    "print('Silhouette %s' % silhouette_score(X, dbscan.labels_))"
   ]
  },
  {
   "cell_type": "markdown",
   "metadata": {},
   "source": [
    "### Consideriamo il cluster senza rumore e su questo eseguiamo di nuovo DBScan"
   ]
  },
  {
   "cell_type": "code",
   "execution_count": 17,
   "metadata": {},
   "outputs": [],
   "source": [
    "\n",
    "df['Label'] = dbscan.labels_"
   ]
  },
  {
   "cell_type": "code",
   "execution_count": 18,
   "metadata": {},
   "outputs": [
    {
     "data": {
      "text/plain": [
       "array([[0.05479452, 0.21325978, 0.01112585],\n",
       "       [0.26027397, 0.14202479, 0.05286086],\n",
       "       [0.02739726, 0.17639046, 0.        ],\n",
       "       ...,\n",
       "       [0.10958904, 0.17538971, 0.01044681],\n",
       "       [0.01369863, 0.12425166, 0.        ],\n",
       "       [0.36986301, 0.58650802, 0.05238031]])"
      ]
     },
     "execution_count": 18,
     "metadata": {},
     "output_type": "execute_result"
    }
   ],
   "source": [
    "tmpDF = df[df['Label']==0]\n",
    "\n",
    "scaler = MinMaxScaler()\n",
    "Y = scaler.fit_transform(tmpDF.iloc[:,0:3].values)\n",
    "Y"
   ]
  },
  {
   "cell_type": "code",
   "execution_count": 19,
   "metadata": {},
   "outputs": [],
   "source": [
    "# Stimare il migliore eps\n",
    "\n",
    "dist = pdist(Y, 'euclidean')\n",
    "dist = squareform(dist)\n",
    "\n",
    "k = 50\n",
    "kth_distances = list()\n",
    "for d in dist:\n",
    "    index_kth_distance = np.argsort(d)[k]\n",
    "    kth_distances.append(d[index_kth_distance])"
   ]
  },
  {
   "cell_type": "code",
   "execution_count": 20,
   "metadata": {},
   "outputs": [
    {
     "data": {
      "image/png": "[encoded data removed]",
      "text/plain": [
       "<Figure size 576x288 with 1 Axes>"
      ]
     },
     "metadata": {
      "needs_background": "light"
     },
     "output_type": "display_data"
    }
   ],
   "source": [
    "plt.figure(figsize=(8,4))\n",
    "plt.plot(range(0, len(kth_distances)), sorted(kth_distances))\n",
    "plt.ylabel('dist from %sth neighbor' % k, fontsize=15)\n",
    "plt.xlabel('sorted distances', fontsize=15)\n",
    "plt.tick_params(axis='both', which='major', labelsize=18)\n",
    "plt.show()"
   ]
  },
  {
   "cell_type": "code",
   "execution_count": 21,
   "metadata": {},
   "outputs": [
    {
     "name": "stderr",
     "output_type": "stream",
     "text": [
      "/usr/local/lib/python2.7/site-packages/ipykernel_launcher.py:10: MatplotlibDeprecationWarning: numpy.arange\n",
      "  # Remove the CWD from sys.path while we load stuff.\n"
     ]
    },
    {
     "name": "stdout",
     "output_type": "stream",
     "text": [
      "k =  85\n",
      "eps =  0.01\n",
      "(array([-1,  0,  1,  2,  3,  4,  5,  6,  7,  8,  9, 10, 11, 12, 13, 14, 15]), array([6350, 1032,  345,  104,  147,   99,  611,  107,  208,  151,  125,\n",
      "         91,  159,  110,  139,   94,   93]))\n",
      "k =  85\n",
      "eps =  0.02\n",
      "(array([-1,  0,  1,  2,  3]), array([3298, 6193,  127,  258,   89]))\n",
      "k =  85\n",
      "eps =  0.03\n",
      "(array([-1,  0,  1]), array([2150, 7683,  132]))\n",
      "k =  85\n",
      "eps =  0.04\n",
      "(array([-1,  0,  1]), array([1423, 8384,  158]))\n",
      "k =  85\n",
      "eps =  0.05\n",
      "(array([-1,  0]), array([1049, 8916]))\n",
      "k =  85\n",
      "eps =  0.060000000000000005\n",
      "(array([-1,  0]), array([ 771, 9194]))\n",
      "k =  85\n",
      "eps =  0.06999999999999999\n",
      "(array([-1,  0]), array([ 605, 9360]))\n",
      "k =  85\n",
      "eps =  0.08\n",
      "(array([-1,  0]), array([ 496, 9469]))\n",
      "k =  85\n",
      "eps =  0.09\n",
      "(array([-1,  0]), array([ 399, 9566]))\n",
      "k =  85\n",
      "eps =  0.09999999999999999\n",
      "(array([-1,  0]), array([ 329, 9636]))\n",
      "k =  85\n",
      "eps =  0.11\n",
      "(array([-1,  0]), array([ 261, 9704]))\n",
      "k =  85\n",
      "eps =  0.12\n",
      "(array([-1,  0]), array([ 208, 9757]))\n",
      "k =  85\n",
      "eps =  0.13\n",
      "(array([-1,  0]), array([ 152, 9813]))\n",
      "k =  85\n",
      "eps =  0.14\n",
      "(array([-1,  0]), array([ 121, 9844]))\n",
      "k =  85\n",
      "eps =  0.15000000000000002\n",
      "(array([-1,  0]), array([ 105, 9860]))\n",
      "k =  100\n",
      "eps =  0.01\n",
      "(array([-1,  0,  1,  2,  3,  4,  5,  6,  7,  8,  9, 10]), array([6881, 1030,  323,  147,  609,  198,  151,  157,  104,  106,  138,\n",
      "        121]))\n",
      "k =  100\n",
      "eps =  0.02\n",
      "(array([-1,  0,  1]), array([3719, 5990,  256]))\n",
      "k =  100\n",
      "eps =  0.03\n",
      "(array([-1,  0,  1]), array([2299, 7543,  123]))\n",
      "k =  100\n",
      "eps =  0.04\n",
      "(array([-1,  0,  1]), array([1540, 8268,  157]))\n",
      "k =  100\n",
      "eps =  0.05\n",
      "(array([-1,  0]), array([1102, 8863]))\n",
      "k =  100\n",
      "eps =  0.060000000000000005\n",
      "(array([-1,  0]), array([ 827, 9138]))\n",
      "k =  100\n",
      "eps =  0.06999999999999999\n",
      "(array([-1,  0]), array([ 640, 9325]))\n",
      "k =  100\n",
      "eps =  0.08\n",
      "(array([-1,  0]), array([ 539, 9426]))\n",
      "k =  100\n",
      "eps =  0.09\n",
      "(array([-1,  0]), array([ 440, 9525]))\n",
      "k =  100\n",
      "eps =  0.09999999999999999\n",
      "(array([-1,  0]), array([ 358, 9607]))\n",
      "k =  100\n",
      "eps =  0.11\n",
      "(array([-1,  0]), array([ 300, 9665]))\n",
      "k =  100\n",
      "eps =  0.12\n",
      "(array([-1,  0]), array([ 241, 9724]))\n",
      "k =  100\n",
      "eps =  0.13\n",
      "(array([-1,  0]), array([ 186, 9779]))\n",
      "k =  100\n",
      "eps =  0.14\n",
      "(array([-1,  0]), array([ 141, 9824]))\n",
      "k =  100\n",
      "eps =  0.15000000000000002\n",
      "(array([-1,  0]), array([ 113, 9852]))\n",
      "k =  130\n",
      "eps =  0.01\n",
      "(array([-1,  0,  1,  2,  3,  4,  5,  6,  7,  8,  9]), array([7291,  619,  227,  147,  607,  196,  304,  151,  150,  137,  136]))\n",
      "k =  130\n",
      "eps =  0.02\n",
      "(array([-1,  0,  1]), array([3971, 5739,  255]))\n",
      "k =  130\n",
      "eps =  0.03\n",
      "(array([-1,  0]), array([2662, 7303]))\n",
      "k =  130\n",
      "eps =  0.04\n",
      "(array([-1,  0]), array([2072, 7893]))\n",
      "k =  130\n",
      "eps =  0.05\n",
      "(array([-1,  0,  1]), array([1205, 8596,  164]))\n",
      "k =  130\n",
      "eps =  0.060000000000000005\n",
      "(array([-1,  0]), array([ 939, 9026]))\n",
      "k =  130\n",
      "eps =  0.06999999999999999\n",
      "(array([-1,  0]), array([ 727, 9238]))\n",
      "k =  130\n",
      "eps =  0.08\n",
      "(array([-1,  0]), array([ 597, 9368]))\n",
      "k =  130\n",
      "eps =  0.09\n",
      "(array([-1,  0]), array([ 488, 9477]))\n",
      "k =  130\n",
      "eps =  0.09999999999999999\n",
      "(array([-1,  0]), array([ 408, 9557]))\n",
      "k =  130\n",
      "eps =  0.11\n",
      "(array([-1,  0]), array([ 353, 9612]))\n",
      "k =  130\n",
      "eps =  0.12\n",
      "(array([-1,  0]), array([ 296, 9669]))\n",
      "k =  130\n",
      "eps =  0.13\n",
      "(array([-1,  0]), array([ 243, 9722]))\n",
      "k =  130\n",
      "eps =  0.14\n",
      "(array([-1,  0]), array([ 184, 9781]))\n",
      "k =  130\n",
      "eps =  0.15000000000000002\n",
      "(array([-1,  0]), array([ 160, 9805]))\n",
      "k =  160\n",
      "eps =  0.01\n",
      "(array([-1,  0,  1,  2,  3,  4]), array([8171,  485,  196,  292,  604,  217]))\n",
      "k =  160\n",
      "eps =  0.02\n",
      "(array([-1,  0,  1,  2,  3]), array([4098, 5276,  255,  310,   26]))\n",
      "k =  160\n",
      "eps =  0.03\n",
      "(array([-1,  0]), array([2999, 6966]))\n",
      "k =  160\n",
      "eps =  0.04\n",
      "(array([-1,  0]), array([2191, 7774]))\n",
      "k =  160\n",
      "eps =  0.05\n",
      "(array([-1,  0,  1]), array([1344, 8465,  156]))\n",
      "k =  160\n",
      "eps =  0.060000000000000005\n",
      "(array([-1,  0]), array([1000, 8965]))\n",
      "k =  160\n",
      "eps =  0.06999999999999999\n",
      "(array([-1,  0]), array([ 811, 9154]))\n",
      "k =  160\n",
      "eps =  0.08\n",
      "(array([-1,  0]), array([ 666, 9299]))\n",
      "k =  160\n",
      "eps =  0.09\n",
      "(array([-1,  0]), array([ 531, 9434]))\n",
      "k =  160\n",
      "eps =  0.09999999999999999\n",
      "(array([-1,  0]), array([ 460, 9505]))\n",
      "k =  160\n",
      "eps =  0.11\n",
      "(array([-1,  0]), array([ 383, 9582]))\n",
      "k =  160\n",
      "eps =  0.12\n",
      "(array([-1,  0]), array([ 338, 9627]))\n",
      "k =  160\n",
      "eps =  0.13\n",
      "(array([-1,  0]), array([ 278, 9687]))\n",
      "k =  160\n",
      "eps =  0.14\n",
      "(array([-1,  0]), array([ 232, 9733]))\n",
      "k =  160\n",
      "eps =  0.15000000000000002\n",
      "(array([-1,  0]), array([ 179, 9786]))\n",
      "k =  200\n",
      "eps =  0.01\n",
      "(array([-1,  0,  1,  2,  3]), array([8579,  455,  259,  461,  211]))\n",
      "k =  200\n",
      "eps =  0.02\n",
      "(array([-1,  0,  1,  2]), array([4380, 5115,  241,  229]))\n",
      "k =  200\n",
      "eps =  0.03\n",
      "(array([-1,  0]), array([3113, 6852]))\n",
      "k =  200\n",
      "eps =  0.04\n",
      "(array([-1,  0]), array([2332, 7633]))\n",
      "k =  200\n",
      "eps =  0.05\n",
      "(array([-1,  0]), array([1762, 8203]))\n",
      "k =  200\n",
      "eps =  0.060000000000000005\n",
      "(array([-1,  0,  1]), array([1190, 8631,  144]))\n",
      "k =  200\n",
      "eps =  0.06999999999999999\n",
      "(array([-1,  0]), array([ 883, 9082]))\n",
      "k =  200\n",
      "eps =  0.08\n",
      "(array([-1,  0]), array([ 720, 9245]))\n",
      "k =  200\n",
      "eps =  0.09\n",
      "(array([-1,  0]), array([ 596, 9369]))\n",
      "k =  200\n",
      "eps =  0.09999999999999999\n",
      "(array([-1,  0]), array([ 490, 9475]))\n",
      "k =  200\n",
      "eps =  0.11\n",
      "(array([-1,  0]), array([ 423, 9542]))\n",
      "k =  200\n",
      "eps =  0.12\n",
      "(array([-1,  0]), array([ 366, 9599]))\n",
      "k =  200\n",
      "eps =  0.13\n",
      "(array([-1,  0]), array([ 319, 9646]))\n",
      "k =  200\n",
      "eps =  0.14\n",
      "(array([-1,  0]), array([ 272, 9693]))\n",
      "k =  200\n",
      "eps =  0.15000000000000002\n",
      "(array([-1,  0]), array([ 229, 9736]))\n",
      "k =  230\n",
      "eps =  0.01\n",
      "(array([-1,  0,  1]), array([9064,  449,  452]))\n",
      "k =  230\n",
      "eps =  0.02\n",
      "(array([-1,  0,  1,  2,  3]), array([5039, 3200, 1450,   46,  230]))\n",
      "k =  230\n",
      "eps =  0.03\n",
      "(array([-1,  0,  1]), array([3273, 6385,  307]))\n",
      "k =  230\n",
      "eps =  0.04\n",
      "(array([-1,  0]), array([2473, 7492]))\n",
      "k =  230\n",
      "eps =  0.05\n",
      "(array([-1,  0]), array([1872, 8093]))\n",
      "k =  230\n",
      "eps =  0.060000000000000005\n",
      "(array([-1,  0]), array([1425, 8540]))\n",
      "k =  230\n",
      "eps =  0.06999999999999999\n",
      "(array([-1,  0]), array([1020, 8945]))\n",
      "k =  230\n",
      "eps =  0.08\n",
      "(array([-1,  0]), array([ 763, 9202]))\n",
      "k =  230\n",
      "eps =  0.09\n",
      "(array([-1,  0]), array([ 628, 9337]))\n",
      "k =  230\n",
      "eps =  0.09999999999999999\n",
      "(array([-1,  0]), array([ 526, 9439]))\n",
      "k =  230\n",
      "eps =  0.11\n",
      "(array([-1,  0]), array([ 446, 9519]))\n",
      "k =  230\n",
      "eps =  0.12\n",
      "(array([-1,  0]), array([ 389, 9576]))\n",
      "k =  230\n",
      "eps =  0.13\n",
      "(array([-1,  0]), array([ 332, 9633]))\n",
      "k =  230\n",
      "eps =  0.14\n",
      "(array([-1,  0]), array([ 295, 9670]))\n",
      "k =  230\n",
      "eps =  0.15000000000000002\n",
      "(array([-1,  0]), array([ 253, 9712]))\n",
      "k =  260\n",
      "eps =  0.01\n",
      "(array([-1,  0,  1]), array([9107,  441,  417]))\n",
      "k =  260\n",
      "eps =  0.02\n",
      "(array([-1,  0,  1,  2,  3]), array([5616, 2835,  727,  333,  454]))\n",
      "k =  260\n",
      "eps =  0.03\n",
      "(array([-1,  0]), array([3679, 6286]))\n",
      "k =  260\n",
      "eps =  0.04\n",
      "(array([-1,  0,  1]), array([2695, 6890,  380]))\n",
      "k =  260\n",
      "eps =  0.05\n",
      "(array([-1,  0]), array([1961, 8004]))\n",
      "k =  260\n",
      "eps =  0.060000000000000005\n",
      "(array([-1,  0]), array([1557, 8408]))\n",
      "k =  260\n",
      "eps =  0.06999999999999999\n",
      "(array([-1,  0]), array([1212, 8753]))\n",
      "k =  260\n",
      "eps =  0.08\n",
      "(array([-1,  0]), array([ 826, 9139]))\n",
      "k =  260\n",
      "eps =  0.09\n",
      "(array([-1,  0]), array([ 669, 9296]))\n",
      "k =  260\n",
      "eps =  0.09999999999999999\n",
      "(array([-1,  0]), array([ 560, 9405]))\n",
      "k =  260\n",
      "eps =  0.11\n",
      "(array([-1,  0]), array([ 471, 9494]))\n",
      "k =  260\n",
      "eps =  0.12\n",
      "(array([-1,  0]), array([ 405, 9560]))\n",
      "k =  260\n",
      "eps =  0.13\n",
      "(array([-1,  0]), array([ 354, 9611]))\n",
      "k =  260\n",
      "eps =  0.14\n",
      "(array([-1,  0]), array([ 308, 9657]))\n",
      "k =  260\n",
      "eps =  0.15000000000000002\n",
      "(array([-1,  0]), array([ 278, 9687]))\n",
      "k =  290\n",
      "eps =  0.01\n",
      "(array([-1,  0,  1]), array([9135,  425,  405]))\n",
      "k =  290\n",
      "eps =  0.02\n",
      "(array([-1,  0,  1,  2,  3,  4]), array([5849, 2811,  609,  170,  333,  193]))\n",
      "k =  290\n",
      "eps =  0.03\n",
      "(array([-1,  0]), array([3770, 6195]))\n",
      "k =  290\n",
      "eps =  0.04\n",
      "(array([-1,  0,  1,  2]), array([2760, 6834,  278,   93]))\n",
      "k =  290\n",
      "eps =  0.05\n",
      "(array([-1,  0]), array([2030, 7935]))\n",
      "k =  290\n",
      "eps =  0.060000000000000005\n",
      "(array([-1,  0]), array([1594, 8371]))\n",
      "k =  290\n",
      "eps =  0.06999999999999999\n",
      "(array([-1,  0]), array([1260, 8705]))\n",
      "k =  290\n",
      "eps =  0.08\n",
      "(array([-1,  0]), array([ 891, 9074]))\n",
      "k =  290\n",
      "eps =  0.09\n",
      "(array([-1,  0]), array([ 710, 9255]))\n",
      "k =  290\n",
      "eps =  0.09999999999999999\n",
      "(array([-1,  0]), array([ 583, 9382]))\n",
      "k =  290\n",
      "eps =  0.11\n",
      "(array([-1,  0]), array([ 499, 9466]))\n",
      "k =  290\n",
      "eps =  0.12\n",
      "(array([-1,  0]), array([ 423, 9542]))\n"
     ]
    },
    {
     "name": "stdout",
     "output_type": "stream",
     "text": [
      "k =  290\n",
      "eps =  0.13\n",
      "(array([-1,  0]), array([ 367, 9598]))\n",
      "k =  290\n",
      "eps =  0.14\n",
      "(array([-1,  0]), array([ 332, 9633]))\n",
      "k =  290\n",
      "eps =  0.15000000000000002\n",
      "(array([-1,  0]), array([ 289, 9676]))\n",
      "k =  350\n",
      "eps =  0.01\n",
      "(array([-1,  0]), array([9615,  350]))\n",
      "k =  350\n",
      "eps =  0.02\n",
      "(array([-1,  0,  1]), array([6623, 2742,  600]))\n",
      "k =  350\n",
      "eps =  0.03\n",
      "(array([-1,  0]), array([4352, 5613]))\n",
      "k =  350\n",
      "eps =  0.04\n",
      "(array([-1,  0]), array([3307, 6658]))\n",
      "k =  350\n",
      "eps =  0.05\n",
      "(array([-1,  0]), array([2262, 7703]))\n",
      "k =  350\n",
      "eps =  0.060000000000000005\n",
      "(array([-1,  0]), array([1724, 8241]))\n",
      "k =  350\n",
      "eps =  0.06999999999999999\n",
      "(array([-1,  0]), array([1386, 8579]))\n",
      "k =  350\n",
      "eps =  0.08\n",
      "(array([-1,  0]), array([1154, 8811]))\n",
      "k =  350\n",
      "eps =  0.09\n",
      "(array([-1,  0]), array([ 783, 9182]))\n",
      "k =  350\n",
      "eps =  0.09999999999999999\n",
      "(array([-1,  0]), array([ 650, 9315]))\n",
      "k =  350\n",
      "eps =  0.11\n",
      "(array([-1,  0]), array([ 545, 9420]))\n",
      "k =  350\n",
      "eps =  0.12\n",
      "(array([-1,  0]), array([ 460, 9505]))\n",
      "k =  350\n",
      "eps =  0.13\n",
      "(array([-1,  0]), array([ 405, 9560]))\n",
      "k =  350\n",
      "eps =  0.14\n",
      "(array([-1,  0]), array([ 342, 9623]))\n",
      "k =  350\n",
      "eps =  0.15000000000000002\n",
      "(array([-1,  0]), array([ 315, 9650]))\n"
     ]
    }
   ],
   "source": [
    "\n",
    "import pylab as pl\n",
    "values = []\n",
    "sil = []\n",
    "possibleK = [85,100,130,160,200,230,260,290,350]\n",
    "\n",
    "for item in possibleK:\n",
    "    silh = []\n",
    "    valuestemp = []\n",
    "    for i in pl.frange(0.010,0.15,0.010):\n",
    "        dbscan = DBSCAN(eps=i, min_samples=item)\n",
    "        dbscan.fit(Y)\n",
    "        print \"k = \", item\n",
    "        print \"eps = \", i\n",
    "        print np.unique(dbscan.labels_, return_counts=True)\n",
    "        silh.append(silhouette_score(Y, dbscan.labels_))\n",
    "        valuestemp.append(i)\n",
    "    sil.append(silh)\n",
    "    values.append(valuestemp)"
   ]
  },
  {
   "cell_type": "code",
   "execution_count": 22,
   "metadata": {},
   "outputs": [
    {
     "data": {
      "text/plain": [
       "(array([-1,  0,  1]), array([1190, 8631,  144]))"
      ]
     },
     "execution_count": 22,
     "metadata": {},
     "output_type": "execute_result"
    }
   ],
   "source": [
    "dbscan = DBSCAN(eps=0.06, min_samples=200)\n",
    "dbscan.fit(Y)\n",
    "\n",
    "np.unique(dbscan.labels_, return_counts=True)"
   ]
  }
 ],
 "metadata": {
  "kernelspec": {
   "display_name": "Python 2",
   "language": "python",
   "name": "python2"
  },
  "language_info": {
   "codemirror_mode": {
    "name": "ipython",
    "version": 2
   },
   "file_extension": ".py",
   "mimetype": "text/x-python",
   "name": "python",
   "nbconvert_exporter": "python",
   "pygments_lexer": "ipython2",
   "version": "2.7.15"
  }
 },
 "nbformat": 4,
 "nbformat_minor": 2
}
