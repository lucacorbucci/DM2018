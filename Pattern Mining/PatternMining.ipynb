{
 "cells": [
  {
   "cell_type": "code",
   "execution_count": 14,
   "metadata": {},
   "outputs": [],
   "source": [
    "%matplotlib inline\n",
    "\n",
    "import numpy as np\n",
    "import pandas as pd\n",
    "import matplotlib.pyplot as plt\n",
    "import seaborn as sns"
   ]
  },
  {
   "cell_type": "code",
   "execution_count": 15,
   "metadata": {},
   "outputs": [],
   "source": [
    "from fim import apriori"
   ]
  },
  {
   "cell_type": "code",
   "execution_count": 16,
   "metadata": {},
   "outputs": [
    {
     "data": {
      "text/html": [
       "<div>\n",
       "<style scoped>\n",
       "    .dataframe tbody tr th:only-of-type {\n",
       "        vertical-align: middle;\n",
       "    }\n",
       "\n",
       "    .dataframe tbody tr th {\n",
       "        vertical-align: top;\n",
       "    }\n",
       "\n",
       "    .dataframe thead th {\n",
       "        text-align: right;\n",
       "    }\n",
       "</style>\n",
       "<table border=\"1\" class=\"dataframe\">\n",
       "  <thead>\n",
       "    <tr style=\"text-align: right;\">\n",
       "      <th></th>\n",
       "      <th>limit</th>\n",
       "      <th>sex</th>\n",
       "      <th>education</th>\n",
       "      <th>status</th>\n",
       "      <th>age</th>\n",
       "      <th>ps-sep</th>\n",
       "      <th>ba-aug</th>\n",
       "      <th>pa-sep</th>\n",
       "      <th>credit_default</th>\n",
       "    </tr>\n",
       "  </thead>\n",
       "  <tbody>\n",
       "    <tr>\n",
       "      <th>0</th>\n",
       "      <td>50000</td>\n",
       "      <td>1</td>\n",
       "      <td>0</td>\n",
       "      <td>2</td>\n",
       "      <td>25.0</td>\n",
       "      <td>2</td>\n",
       "      <td>49985</td>\n",
       "      <td>2130</td>\n",
       "      <td>0</td>\n",
       "    </tr>\n",
       "    <tr>\n",
       "      <th>1</th>\n",
       "      <td>200000</td>\n",
       "      <td>1</td>\n",
       "      <td>3</td>\n",
       "      <td>0</td>\n",
       "      <td>54.0</td>\n",
       "      <td>-1</td>\n",
       "      <td>9981</td>\n",
       "      <td>10120</td>\n",
       "      <td>0</td>\n",
       "    </tr>\n",
       "    <tr>\n",
       "      <th>2</th>\n",
       "      <td>30000</td>\n",
       "      <td>0</td>\n",
       "      <td>1</td>\n",
       "      <td>0</td>\n",
       "      <td>34.0</td>\n",
       "      <td>2</td>\n",
       "      <td>29280</td>\n",
       "      <td>0</td>\n",
       "      <td>0</td>\n",
       "    </tr>\n",
       "    <tr>\n",
       "      <th>3</th>\n",
       "      <td>140000</td>\n",
       "      <td>0</td>\n",
       "      <td>3</td>\n",
       "      <td>2</td>\n",
       "      <td>34.0</td>\n",
       "      <td>0</td>\n",
       "      <td>41717</td>\n",
       "      <td>2000</td>\n",
       "      <td>0</td>\n",
       "    </tr>\n",
       "    <tr>\n",
       "      <th>4</th>\n",
       "      <td>60000</td>\n",
       "      <td>0</td>\n",
       "      <td>1</td>\n",
       "      <td>0</td>\n",
       "      <td>36.0</td>\n",
       "      <td>1</td>\n",
       "      <td>48716</td>\n",
       "      <td>1788</td>\n",
       "      <td>1</td>\n",
       "    </tr>\n",
       "  </tbody>\n",
       "</table>\n",
       "</div>"
      ],
      "text/plain": [
       "    limit  sex  education  status   age  ps-sep  ba-aug  pa-sep  \\\n",
       "0   50000    1          0       2  25.0       2   49985    2130   \n",
       "1  200000    1          3       0  54.0      -1    9981   10120   \n",
       "2   30000    0          1       0  34.0       2   29280       0   \n",
       "3  140000    0          3       2  34.0       0   41717    2000   \n",
       "4   60000    0          1       0  36.0       1   48716    1788   \n",
       "\n",
       "   credit_default  \n",
       "0               0  \n",
       "1               0  \n",
       "2               0  \n",
       "3               0  \n",
       "4               1  "
      ]
     },
     "execution_count": 16,
     "metadata": {},
     "output_type": "execute_result"
    }
   ],
   "source": [
    "df = pd.read_csv(\"ridotto.csv\", skipinitialspace=True, sep=',')\n",
    "df.head()"
   ]
  },
  {
   "cell_type": "code",
   "execution_count": 17,
   "metadata": {
    "scrolled": true
   },
   "outputs": [
    {
     "data": {
      "text/plain": [
       "limit             0\n",
       "sex               0\n",
       "education         0\n",
       "status            0\n",
       "age               0\n",
       "ps-sep            0\n",
       "ba-aug            0\n",
       "pa-sep            0\n",
       "credit_default    0\n",
       "dtype: int64"
      ]
     },
     "execution_count": 17,
     "metadata": {},
     "output_type": "execute_result"
    }
   ],
   "source": [
    "df.isnull().sum()"
   ]
  },
  {
   "cell_type": "markdown",
   "metadata": {},
   "source": [
    "Vanno discretizzati gli attributi Limit, age, ba-aug, pa-sep.\n",
    "Per capire come discretizzarli e come dividere in bin si devono studiare le distribuzioni.\n",
    "Se le distribuzioni sono uniformi possiamo dividere in un numero X di bin, se invece ci sono dei picchi in alcuni\n",
    "punti dobbiamo cercare di lasciare i picchi in un unico bin.\n",
    "Studiamo le distribuzioni di limit, age, ba-aug e pa-sep"
   ]
  },
  {
   "cell_type": "code",
   "execution_count": 18,
   "metadata": {},
   "outputs": [
    {
     "data": {
      "text/plain": [
       "<matplotlib.axes._subplots.AxesSubplot at 0x1141aae50>"
      ]
     },
     "execution_count": 18,
     "metadata": {},
     "output_type": "execute_result"
    },
    {
     "data": {
      "image/png": "[encoded data removed]",
      "text/plain": [
       "<Figure size 1080x1080 with 1 Axes>"
      ]
     },
     "metadata": {
      "needs_background": "light"
     },
     "output_type": "display_data"
    },
    {
     "data": {
      "image/png": "[encoded data removed]",
      "text/plain": [
       "<Figure size 1080x1080 with 1 Axes>"
      ]
     },
     "metadata": {
      "needs_background": "light"
     },
     "output_type": "display_data"
    },
    {
     "data": {
      "image/png": "[encoded data removed]",
      "text/plain": [
       "<Figure size 1080x1080 with 1 Axes>"
      ]
     },
     "metadata": {
      "needs_background": "light"
     },
     "output_type": "display_data"
    },
    {
     "data": {
      "image/png": "[encoded data removed]",
      "text/plain": [
       "<Figure size 1080x1080 with 1 Axes>"
      ]
     },
     "metadata": {
      "needs_background": "light"
     },
     "output_type": "display_data"
    }
   ],
   "source": [
    "fig = plt.figure(figsize=(15,15))\n",
    "fig_dims = (3,3)\n",
    "\n",
    "plt.subplot2grid(fig_dims, (0, 0))\n",
    "sns.distplot(df['limit'], hist = False, kde = True,\n",
    "                 kde_kws = {'shade': True, 'linewidth': 3})\n",
    "\n",
    "fig = plt.figure(figsize=(15,15))\n",
    "fig_dims = (3,3)\n",
    "plt.subplot2grid(fig_dims, (0, 1))\n",
    "sns.distplot(df['age'], hist = False, kde = True,\n",
    "                 kde_kws = {'shade': True, 'linewidth': 3})\n",
    "\n",
    "fig = plt.figure(figsize=(15,15))\n",
    "fig_dims = (3,3)\n",
    "plt.subplot2grid(fig_dims, (1, 0))\n",
    "sns.distplot(df['ba-aug'], hist = False, kde = True,\n",
    "                 kde_kws = {'shade': True, 'linewidth': 3})\n",
    "fig = plt.figure(figsize=(15,15))\n",
    "fig_dims = (3,3)\n",
    "plt.subplot2grid(fig_dims, (2, 0))\n",
    "sns.distplot(df['pa-sep'], hist = False, kde = True,\n",
    "                 kde_kws = {'shade': True, 'linewidth': 3})"
   ]
  },
  {
   "cell_type": "code",
   "execution_count": 19,
   "metadata": {},
   "outputs": [
    {
     "name": "stdout",
     "output_type": "stream",
     "text": [
      "limit\n",
      "780000\n",
      "10000\n",
      "\n",
      "age\n",
      "75.0\n",
      "21.0\n",
      "\n",
      "ba-aug\n",
      "605943\n",
      "-69777\n",
      "\n",
      "pa-sep\n",
      "493358\n",
      "0\n"
     ]
    }
   ],
   "source": [
    "print \"limit\"\n",
    "print max(df[\"limit\"])\n",
    "print min(df[\"limit\"])\n",
    "print \"\"\n",
    "print \"age\"\n",
    "print max(df[\"age\"])\n",
    "print min(df[\"age\"])\n",
    "print \"\"\n",
    "print \"ba-aug\"\n",
    "print max(df[\"ba-aug\"])\n",
    "print min(df[\"ba-aug\"])\n",
    "print \"\"\n",
    "print \"pa-sep\"\n",
    "print max(df[\"pa-sep\"])\n",
    "print min(df[\"pa-sep\"])"
   ]
  },
  {
   "cell_type": "markdown",
   "metadata": {},
   "source": [
    "Per age si divide in bin di dimensione uguale fissata a 10, quindi da 20 a 30, da 30 a 40 ecc...\n",
    "Per limit si divide in bin di dimensione 100.000\n",
    "Per pa-sep si divide in bin di dimensione 50.000\n",
    "Per ba-aug dobbiamo dividere in modo che quelli con il valore minore di 0 finiscano in un bin da soli e poi il resto viene diviso in bin di dimensione uguale stando attenti che la parte che forma il picco finisca tutta in un unico bin"
   ]
  },
  {
   "cell_type": "code",
   "execution_count": 20,
   "metadata": {},
   "outputs": [
    {
     "data": {
      "text/html": [
       "<div>\n",
       "<style scoped>\n",
       "    .dataframe tbody tr th:only-of-type {\n",
       "        vertical-align: middle;\n",
       "    }\n",
       "\n",
       "    .dataframe tbody tr th {\n",
       "        vertical-align: top;\n",
       "    }\n",
       "\n",
       "    .dataframe thead th {\n",
       "        text-align: right;\n",
       "    }\n",
       "</style>\n",
       "<table border=\"1\" class=\"dataframe\">\n",
       "  <thead>\n",
       "    <tr style=\"text-align: right;\">\n",
       "      <th></th>\n",
       "      <th>limit</th>\n",
       "      <th>sex</th>\n",
       "      <th>education</th>\n",
       "      <th>status</th>\n",
       "      <th>age</th>\n",
       "      <th>ps-sep</th>\n",
       "      <th>ba-aug</th>\n",
       "      <th>pa-sep</th>\n",
       "      <th>credit_default</th>\n",
       "    </tr>\n",
       "  </thead>\n",
       "  <tbody>\n",
       "    <tr>\n",
       "      <th>0</th>\n",
       "      <td>50000</td>\n",
       "      <td>1</td>\n",
       "      <td>0</td>\n",
       "      <td>2</td>\n",
       "      <td>25.0</td>\n",
       "      <td>2</td>\n",
       "      <td>49985</td>\n",
       "      <td>2130</td>\n",
       "      <td>0</td>\n",
       "    </tr>\n",
       "    <tr>\n",
       "      <th>1</th>\n",
       "      <td>200000</td>\n",
       "      <td>1</td>\n",
       "      <td>3</td>\n",
       "      <td>0</td>\n",
       "      <td>54.0</td>\n",
       "      <td>-1</td>\n",
       "      <td>9981</td>\n",
       "      <td>10120</td>\n",
       "      <td>0</td>\n",
       "    </tr>\n",
       "    <tr>\n",
       "      <th>2</th>\n",
       "      <td>30000</td>\n",
       "      <td>0</td>\n",
       "      <td>1</td>\n",
       "      <td>0</td>\n",
       "      <td>34.0</td>\n",
       "      <td>2</td>\n",
       "      <td>29280</td>\n",
       "      <td>0</td>\n",
       "      <td>0</td>\n",
       "    </tr>\n",
       "    <tr>\n",
       "      <th>3</th>\n",
       "      <td>140000</td>\n",
       "      <td>0</td>\n",
       "      <td>3</td>\n",
       "      <td>2</td>\n",
       "      <td>34.0</td>\n",
       "      <td>0</td>\n",
       "      <td>41717</td>\n",
       "      <td>2000</td>\n",
       "      <td>0</td>\n",
       "    </tr>\n",
       "    <tr>\n",
       "      <th>4</th>\n",
       "      <td>60000</td>\n",
       "      <td>0</td>\n",
       "      <td>1</td>\n",
       "      <td>0</td>\n",
       "      <td>36.0</td>\n",
       "      <td>1</td>\n",
       "      <td>48716</td>\n",
       "      <td>1788</td>\n",
       "      <td>1</td>\n",
       "    </tr>\n",
       "  </tbody>\n",
       "</table>\n",
       "</div>"
      ],
      "text/plain": [
       "    limit  sex  education  status   age  ps-sep  ba-aug  pa-sep  \\\n",
       "0   50000    1          0       2  25.0       2   49985    2130   \n",
       "1  200000    1          3       0  54.0      -1    9981   10120   \n",
       "2   30000    0          1       0  34.0       2   29280       0   \n",
       "3  140000    0          3       2  34.0       0   41717    2000   \n",
       "4   60000    0          1       0  36.0       1   48716    1788   \n",
       "\n",
       "   credit_default  \n",
       "0               0  \n",
       "1               0  \n",
       "2               0  \n",
       "3               0  \n",
       "4               1  "
      ]
     },
     "execution_count": 20,
     "metadata": {},
     "output_type": "execute_result"
    }
   ],
   "source": [
    "df.head()"
   ]
  },
  {
   "cell_type": "code",
   "execution_count": 21,
   "metadata": {},
   "outputs": [],
   "source": [
    "df['limitBin'] = pd.cut(df['limit'].astype(int), 8, right=False)\n",
    "\n",
    "df['ageBin'] = pd.cut(df['age'].astype(int), 5, right=False)\n",
    "\n",
    "df['pa-sepBin'] = pd.cut(df['pa-sep'].astype(int), 10, right=False)\n",
    "\n",
    "df['ba-augBin'] = pd.cut(df['ba-aug'].astype(int), 10, right=False)"
   ]
  },
  {
   "cell_type": "code",
   "execution_count": 22,
   "metadata": {},
   "outputs": [
    {
     "name": "stdout",
     "output_type": "stream",
     "text": [
      "[10000.0, 106250.0)     4167\n",
      "[106250.0, 202500.0)    2627\n",
      "[202500.0, 298750.0)    1521\n",
      "[298750.0, 395000.0)     991\n",
      "[395000.0, 491250.0)     401\n",
      "[491250.0, 587500.0)     268\n",
      "[587500.0, 683750.0)      17\n",
      "[683750.0, 780770.0)       8\n",
      "Name: limitBin, dtype: int64\n",
      "[31.8, 42.6)      4296\n",
      "[21.0, 31.8)      3690\n",
      "[42.6, 53.4)      1628\n",
      "[53.4, 64.2)       349\n",
      "[64.2, 75.054)      37\n",
      "Name: ageBin, dtype: int64\n",
      "[0.0, 49335.8)            9839\n",
      "[49335.8, 98671.6)         106\n",
      "[98671.6, 148007.4)         30\n",
      "[148007.4, 197343.2)         9\n",
      "[197343.2, 246679.0)         7\n",
      "[246679.0, 296014.8)         6\n",
      "[296014.8, 345350.6)         2\n",
      "[444022.2, 493851.358)       1\n",
      "[394686.4, 444022.2)         0\n",
      "[345350.6, 394686.4)         0\n",
      "Name: pa-sepBin, dtype: int64\n",
      "[-2205.0, 65367.0)       7510\n",
      "[65367.0, 132939.0)      1397\n",
      "[132939.0, 200511.0)      617\n",
      "[200511.0, 268083.0)      245\n",
      "[268083.0, 335655.0)       99\n",
      "[335655.0, 403227.0)       62\n",
      "[403227.0, 470799.0)       30\n",
      "[-69777.0, -2205.0)        22\n",
      "[470799.0, 538371.0)       13\n",
      "[538371.0, 606618.72)       5\n",
      "Name: ba-augBin, dtype: int64\n"
     ]
    }
   ],
   "source": [
    "print df['limitBin'].value_counts()\n",
    "\n",
    "print df['ageBin'].value_counts()\n",
    "\n",
    "print df['pa-sepBin'].value_counts()\n",
    "\n",
    "print df['ba-augBin'].value_counts()\n",
    "\n"
   ]
  },
  {
   "cell_type": "code",
   "execution_count": 23,
   "metadata": {},
   "outputs": [
    {
     "name": "stdout",
     "output_type": "stream",
     "text": [
      "single     4346\n",
      "married    3757\n",
      "others       75\n",
      "Name: status, dtype: int64\n"
     ]
    }
   ],
   "source": [
    "dfC = pd.read_csv(\"credit_default_train.csv\", skipinitialspace=True, sep=',')\n",
    "\n",
    "print dfC['status'].value_counts()\n",
    "\n"
   ]
  },
  {
   "cell_type": "code",
   "execution_count": 24,
   "metadata": {},
   "outputs": [
    {
     "data": {
      "text/html": [
       "<div>\n",
       "<style scoped>\n",
       "    .dataframe tbody tr th:only-of-type {\n",
       "        vertical-align: middle;\n",
       "    }\n",
       "\n",
       "    .dataframe tbody tr th {\n",
       "        vertical-align: top;\n",
       "    }\n",
       "\n",
       "    .dataframe thead th {\n",
       "        text-align: right;\n",
       "    }\n",
       "</style>\n",
       "<table border=\"1\" class=\"dataframe\">\n",
       "  <thead>\n",
       "    <tr style=\"text-align: right;\">\n",
       "      <th></th>\n",
       "      <th>sex</th>\n",
       "      <th>education</th>\n",
       "      <th>status</th>\n",
       "      <th>ps-sep</th>\n",
       "      <th>credit_default</th>\n",
       "      <th>limitBin</th>\n",
       "      <th>ageBin</th>\n",
       "      <th>pa-sepBin</th>\n",
       "      <th>ba-augBin</th>\n",
       "    </tr>\n",
       "  </thead>\n",
       "  <tbody>\n",
       "    <tr>\n",
       "      <th>0</th>\n",
       "      <td>1</td>\n",
       "      <td>0</td>\n",
       "      <td>2</td>\n",
       "      <td>2</td>\n",
       "      <td>0</td>\n",
       "      <td>[10000.0, 106250.0)</td>\n",
       "      <td>[21.0, 31.8)</td>\n",
       "      <td>[0.0, 49335.8)</td>\n",
       "      <td>[-2205.0, 65367.0)</td>\n",
       "    </tr>\n",
       "    <tr>\n",
       "      <th>1</th>\n",
       "      <td>1</td>\n",
       "      <td>3</td>\n",
       "      <td>0</td>\n",
       "      <td>-1</td>\n",
       "      <td>0</td>\n",
       "      <td>[106250.0, 202500.0)</td>\n",
       "      <td>[53.4, 64.2)</td>\n",
       "      <td>[0.0, 49335.8)</td>\n",
       "      <td>[-2205.0, 65367.0)</td>\n",
       "    </tr>\n",
       "    <tr>\n",
       "      <th>2</th>\n",
       "      <td>0</td>\n",
       "      <td>1</td>\n",
       "      <td>0</td>\n",
       "      <td>2</td>\n",
       "      <td>0</td>\n",
       "      <td>[10000.0, 106250.0)</td>\n",
       "      <td>[31.8, 42.6)</td>\n",
       "      <td>[0.0, 49335.8)</td>\n",
       "      <td>[-2205.0, 65367.0)</td>\n",
       "    </tr>\n",
       "    <tr>\n",
       "      <th>3</th>\n",
       "      <td>0</td>\n",
       "      <td>3</td>\n",
       "      <td>2</td>\n",
       "      <td>0</td>\n",
       "      <td>0</td>\n",
       "      <td>[106250.0, 202500.0)</td>\n",
       "      <td>[31.8, 42.6)</td>\n",
       "      <td>[0.0, 49335.8)</td>\n",
       "      <td>[-2205.0, 65367.0)</td>\n",
       "    </tr>\n",
       "    <tr>\n",
       "      <th>4</th>\n",
       "      <td>0</td>\n",
       "      <td>1</td>\n",
       "      <td>0</td>\n",
       "      <td>1</td>\n",
       "      <td>1</td>\n",
       "      <td>[10000.0, 106250.0)</td>\n",
       "      <td>[31.8, 42.6)</td>\n",
       "      <td>[0.0, 49335.8)</td>\n",
       "      <td>[-2205.0, 65367.0)</td>\n",
       "    </tr>\n",
       "  </tbody>\n",
       "</table>\n",
       "</div>"
      ],
      "text/plain": [
       "   sex  education  status  ps-sep  credit_default              limitBin  \\\n",
       "0    1          0       2       2               0   [10000.0, 106250.0)   \n",
       "1    1          3       0      -1               0  [106250.0, 202500.0)   \n",
       "2    0          1       0       2               0   [10000.0, 106250.0)   \n",
       "3    0          3       2       0               0  [106250.0, 202500.0)   \n",
       "4    0          1       0       1               1   [10000.0, 106250.0)   \n",
       "\n",
       "         ageBin       pa-sepBin           ba-augBin  \n",
       "0  [21.0, 31.8)  [0.0, 49335.8)  [-2205.0, 65367.0)  \n",
       "1  [53.4, 64.2)  [0.0, 49335.8)  [-2205.0, 65367.0)  \n",
       "2  [31.8, 42.6)  [0.0, 49335.8)  [-2205.0, 65367.0)  \n",
       "3  [31.8, 42.6)  [0.0, 49335.8)  [-2205.0, 65367.0)  \n",
       "4  [31.8, 42.6)  [0.0, 49335.8)  [-2205.0, 65367.0)  "
      ]
     },
     "execution_count": 24,
     "metadata": {},
     "output_type": "execute_result"
    }
   ],
   "source": [
    "df.drop(['ba-aug', 'pa-sep', 'age', 'limit'], axis=1, inplace=True)\n",
    "\n",
    "\n",
    "df.head()"
   ]
  },
  {
   "cell_type": "code",
   "execution_count": 25,
   "metadata": {},
   "outputs": [
    {
     "data": {
      "text/html": [
       "<div>\n",
       "<style scoped>\n",
       "    .dataframe tbody tr th:only-of-type {\n",
       "        vertical-align: middle;\n",
       "    }\n",
       "\n",
       "    .dataframe tbody tr th {\n",
       "        vertical-align: top;\n",
       "    }\n",
       "\n",
       "    .dataframe thead th {\n",
       "        text-align: right;\n",
       "    }\n",
       "</style>\n",
       "<table border=\"1\" class=\"dataframe\">\n",
       "  <thead>\n",
       "    <tr style=\"text-align: right;\">\n",
       "      <th></th>\n",
       "      <th>sex</th>\n",
       "      <th>education</th>\n",
       "      <th>status</th>\n",
       "      <th>ps-sep</th>\n",
       "      <th>credit_default</th>\n",
       "      <th>limitBin</th>\n",
       "      <th>ageBin</th>\n",
       "      <th>pa-sepBin</th>\n",
       "      <th>ba-augBin</th>\n",
       "    </tr>\n",
       "  </thead>\n",
       "  <tbody>\n",
       "    <tr>\n",
       "      <th>0</th>\n",
       "      <td>Male</td>\n",
       "      <td>graduateSchool</td>\n",
       "      <td>married</td>\n",
       "      <td>2Month</td>\n",
       "      <td>No</td>\n",
       "      <td>[10000.0, 106250.0)_Limit</td>\n",
       "      <td>[21.0, 31.8)_Age</td>\n",
       "      <td>[0.0, 49335.8)_Pa-Sep</td>\n",
       "      <td>[-2205.0, 65367.0)_Ba-Aug</td>\n",
       "    </tr>\n",
       "    <tr>\n",
       "      <th>1</th>\n",
       "      <td>Male</td>\n",
       "      <td>university</td>\n",
       "      <td>married</td>\n",
       "      <td>Paid</td>\n",
       "      <td>No</td>\n",
       "      <td>[106250.0, 202500.0)_Limit</td>\n",
       "      <td>[53.4, 64.2)_Age</td>\n",
       "      <td>[0.0, 49335.8)_Pa-Sep</td>\n",
       "      <td>[-2205.0, 65367.0)_Ba-Aug</td>\n",
       "    </tr>\n",
       "    <tr>\n",
       "      <th>2</th>\n",
       "      <td>Female</td>\n",
       "      <td>high school</td>\n",
       "      <td>married</td>\n",
       "      <td>2Month</td>\n",
       "      <td>No</td>\n",
       "      <td>[10000.0, 106250.0)_Limit</td>\n",
       "      <td>[31.8, 42.6)_Age</td>\n",
       "      <td>[0.0, 49335.8)_Pa-Sep</td>\n",
       "      <td>[-2205.0, 65367.0)_Ba-Aug</td>\n",
       "    </tr>\n",
       "    <tr>\n",
       "      <th>3</th>\n",
       "      <td>Female</td>\n",
       "      <td>university</td>\n",
       "      <td>married</td>\n",
       "      <td>RevolvingCredit</td>\n",
       "      <td>No</td>\n",
       "      <td>[106250.0, 202500.0)_Limit</td>\n",
       "      <td>[31.8, 42.6)_Age</td>\n",
       "      <td>[0.0, 49335.8)_Pa-Sep</td>\n",
       "      <td>[-2205.0, 65367.0)_Ba-Aug</td>\n",
       "    </tr>\n",
       "    <tr>\n",
       "      <th>4</th>\n",
       "      <td>Female</td>\n",
       "      <td>high school</td>\n",
       "      <td>married</td>\n",
       "      <td>1Month</td>\n",
       "      <td>Yes</td>\n",
       "      <td>[10000.0, 106250.0)_Limit</td>\n",
       "      <td>[31.8, 42.6)_Age</td>\n",
       "      <td>[0.0, 49335.8)_Pa-Sep</td>\n",
       "      <td>[-2205.0, 65367.0)_Ba-Aug</td>\n",
       "    </tr>\n",
       "  </tbody>\n",
       "</table>\n",
       "</div>"
      ],
      "text/plain": [
       "      sex       education   status           ps-sep credit_default  \\\n",
       "0    Male  graduateSchool  married           2Month             No   \n",
       "1    Male      university  married             Paid             No   \n",
       "2  Female     high school  married           2Month             No   \n",
       "3  Female      university  married  RevolvingCredit             No   \n",
       "4  Female     high school  married           1Month            Yes   \n",
       "\n",
       "                     limitBin            ageBin              pa-sepBin  \\\n",
       "0   [10000.0, 106250.0)_Limit  [21.0, 31.8)_Age  [0.0, 49335.8)_Pa-Sep   \n",
       "1  [106250.0, 202500.0)_Limit  [53.4, 64.2)_Age  [0.0, 49335.8)_Pa-Sep   \n",
       "2   [10000.0, 106250.0)_Limit  [31.8, 42.6)_Age  [0.0, 49335.8)_Pa-Sep   \n",
       "3  [106250.0, 202500.0)_Limit  [31.8, 42.6)_Age  [0.0, 49335.8)_Pa-Sep   \n",
       "4   [10000.0, 106250.0)_Limit  [31.8, 42.6)_Age  [0.0, 49335.8)_Pa-Sep   \n",
       "\n",
       "                   ba-augBin  \n",
       "0  [-2205.0, 65367.0)_Ba-Aug  \n",
       "1  [-2205.0, 65367.0)_Ba-Aug  \n",
       "2  [-2205.0, 65367.0)_Ba-Aug  \n",
       "3  [-2205.0, 65367.0)_Ba-Aug  \n",
       "4  [-2205.0, 65367.0)_Ba-Aug  "
      ]
     },
     "execution_count": 25,
     "metadata": {},
     "output_type": "execute_result"
    }
   ],
   "source": [
    "df['sex'] = df['sex'].map(\n",
    "    {0: 'Female', 1: 'Male'}).astype(str)\n",
    "\n",
    "df['education'] = df['education'].map(\n",
    "    {0: 'graduateSchool', 1: 'high school', 2: 'others', 3: 'university'}).astype(str)\n",
    "\n",
    "\n",
    "df['status'] = df['status'].map({0: 'married', 1: 'other', 2: 'married'}).astype(str)\n",
    "\n",
    "\n",
    "\n",
    "df['ps-sep'] = df['ps-sep'].map({-2: 'NoConsumption', -1: 'Paid', 0: 'RevolvingCredit', 1: '1Month', \n",
    "                                 2: '2Month', 3: '3Month',4: '4Month',5: '5Month',\n",
    "                                 6: '6Month',7: '7Month',8: '8Month',9: '9Month'}).astype(str)\n",
    "\n",
    "df['credit_default'] = df['credit_default'].map(\n",
    "    {0: 'No', 1: 'Yes'}).astype(str)\n",
    "\n",
    "df['limitBin'] = df['limitBin'].astype(str) + '_Limit'\n",
    "df['ageBin'] = df['ageBin'].astype(str) + '_Age'\n",
    "df['pa-sepBin'] = df['pa-sepBin'].astype(str) + '_Pa-Sep'\n",
    "df['ba-augBin'] = df['ba-augBin'].astype(str) + '_Ba-Aug'\n",
    "\n",
    "df.head()"
   ]
  },
  {
   "cell_type": "code",
   "execution_count": 26,
   "metadata": {},
   "outputs": [],
   "source": [
    "df = df[['credit_default', 'sex', 'education', 'status', 'ps-sep', 'limitBin', 'ageBin', 'pa-sepBin', 'ba-augBin']]"
   ]
  },
  {
   "cell_type": "code",
   "execution_count": 27,
   "metadata": {},
   "outputs": [
    {
     "data": {
      "text/html": [
       "<div>\n",
       "<style scoped>\n",
       "    .dataframe tbody tr th:only-of-type {\n",
       "        vertical-align: middle;\n",
       "    }\n",
       "\n",
       "    .dataframe tbody tr th {\n",
       "        vertical-align: top;\n",
       "    }\n",
       "\n",
       "    .dataframe thead th {\n",
       "        text-align: right;\n",
       "    }\n",
       "</style>\n",
       "<table border=\"1\" class=\"dataframe\">\n",
       "  <thead>\n",
       "    <tr style=\"text-align: right;\">\n",
       "      <th></th>\n",
       "      <th>credit_default</th>\n",
       "      <th>sex</th>\n",
       "      <th>education</th>\n",
       "      <th>status</th>\n",
       "      <th>ps-sep</th>\n",
       "      <th>limitBin</th>\n",
       "      <th>ageBin</th>\n",
       "      <th>pa-sepBin</th>\n",
       "      <th>ba-augBin</th>\n",
       "    </tr>\n",
       "  </thead>\n",
       "  <tbody>\n",
       "    <tr>\n",
       "      <th>0</th>\n",
       "      <td>No</td>\n",
       "      <td>Male</td>\n",
       "      <td>graduateSchool</td>\n",
       "      <td>married</td>\n",
       "      <td>2Month</td>\n",
       "      <td>[10000.0, 106250.0)_Limit</td>\n",
       "      <td>[21.0, 31.8)_Age</td>\n",
       "      <td>[0.0, 49335.8)_Pa-Sep</td>\n",
       "      <td>[-2205.0, 65367.0)_Ba-Aug</td>\n",
       "    </tr>\n",
       "    <tr>\n",
       "      <th>1</th>\n",
       "      <td>No</td>\n",
       "      <td>Male</td>\n",
       "      <td>university</td>\n",
       "      <td>married</td>\n",
       "      <td>Paid</td>\n",
       "      <td>[106250.0, 202500.0)_Limit</td>\n",
       "      <td>[53.4, 64.2)_Age</td>\n",
       "      <td>[0.0, 49335.8)_Pa-Sep</td>\n",
       "      <td>[-2205.0, 65367.0)_Ba-Aug</td>\n",
       "    </tr>\n",
       "    <tr>\n",
       "      <th>2</th>\n",
       "      <td>No</td>\n",
       "      <td>Female</td>\n",
       "      <td>high school</td>\n",
       "      <td>married</td>\n",
       "      <td>2Month</td>\n",
       "      <td>[10000.0, 106250.0)_Limit</td>\n",
       "      <td>[31.8, 42.6)_Age</td>\n",
       "      <td>[0.0, 49335.8)_Pa-Sep</td>\n",
       "      <td>[-2205.0, 65367.0)_Ba-Aug</td>\n",
       "    </tr>\n",
       "    <tr>\n",
       "      <th>3</th>\n",
       "      <td>No</td>\n",
       "      <td>Female</td>\n",
       "      <td>university</td>\n",
       "      <td>married</td>\n",
       "      <td>RevolvingCredit</td>\n",
       "      <td>[106250.0, 202500.0)_Limit</td>\n",
       "      <td>[31.8, 42.6)_Age</td>\n",
       "      <td>[0.0, 49335.8)_Pa-Sep</td>\n",
       "      <td>[-2205.0, 65367.0)_Ba-Aug</td>\n",
       "    </tr>\n",
       "    <tr>\n",
       "      <th>4</th>\n",
       "      <td>Yes</td>\n",
       "      <td>Female</td>\n",
       "      <td>high school</td>\n",
       "      <td>married</td>\n",
       "      <td>1Month</td>\n",
       "      <td>[10000.0, 106250.0)_Limit</td>\n",
       "      <td>[31.8, 42.6)_Age</td>\n",
       "      <td>[0.0, 49335.8)_Pa-Sep</td>\n",
       "      <td>[-2205.0, 65367.0)_Ba-Aug</td>\n",
       "    </tr>\n",
       "  </tbody>\n",
       "</table>\n",
       "</div>"
      ],
      "text/plain": [
       "  credit_default     sex       education   status           ps-sep  \\\n",
       "0             No    Male  graduateSchool  married           2Month   \n",
       "1             No    Male      university  married             Paid   \n",
       "2             No  Female     high school  married           2Month   \n",
       "3             No  Female      university  married  RevolvingCredit   \n",
       "4            Yes  Female     high school  married           1Month   \n",
       "\n",
       "                     limitBin            ageBin              pa-sepBin  \\\n",
       "0   [10000.0, 106250.0)_Limit  [21.0, 31.8)_Age  [0.0, 49335.8)_Pa-Sep   \n",
       "1  [106250.0, 202500.0)_Limit  [53.4, 64.2)_Age  [0.0, 49335.8)_Pa-Sep   \n",
       "2   [10000.0, 106250.0)_Limit  [31.8, 42.6)_Age  [0.0, 49335.8)_Pa-Sep   \n",
       "3  [106250.0, 202500.0)_Limit  [31.8, 42.6)_Age  [0.0, 49335.8)_Pa-Sep   \n",
       "4   [10000.0, 106250.0)_Limit  [31.8, 42.6)_Age  [0.0, 49335.8)_Pa-Sep   \n",
       "\n",
       "                   ba-augBin  \n",
       "0  [-2205.0, 65367.0)_Ba-Aug  \n",
       "1  [-2205.0, 65367.0)_Ba-Aug  \n",
       "2  [-2205.0, 65367.0)_Ba-Aug  \n",
       "3  [-2205.0, 65367.0)_Ba-Aug  \n",
       "4  [-2205.0, 65367.0)_Ba-Aug  "
      ]
     },
     "execution_count": 27,
     "metadata": {},
     "output_type": "execute_result"
    }
   ],
   "source": [
    "df.head()"
   ]
  },
  {
   "cell_type": "code",
   "execution_count": 28,
   "metadata": {},
   "outputs": [],
   "source": [
    "# Creiamo i basket ovvero per ogni riga prendiamo i valori corrispondenti ai vari attributi\n",
    "baskets = df.values.tolist()"
   ]
  },
  {
   "cell_type": "markdown",
   "metadata": {},
   "source": [
    "### ItemSet Massimali"
   ]
  },
  {
   "cell_type": "code",
   "execution_count": 157,
   "metadata": {},
   "outputs": [],
   "source": [
    "# Applichiamo l'algoritmo APriori per estrarre gli itemset che hanno un minSup > 2\n",
    "itemsets = apriori(baskets, supp=20, zmin=4, target='m') "
   ]
  },
  {
   "cell_type": "code",
   "execution_count": 158,
   "metadata": {},
   "outputs": [
    {
     "name": "stdout",
     "output_type": "stream",
     "text": [
      "('Number of itemsets:', 20)\n"
     ]
    }
   ],
   "source": [
    "print('Number of itemsets:', len(itemsets))"
   ]
  },
  {
   "cell_type": "code",
   "execution_count": 159,
   "metadata": {
    "scrolled": false
   },
   "outputs": [
    {
     "data": {
      "text/plain": [
       "(('[106250.0, 202500.0)_Limit', 'No', '[0.0, 49335.8)_Pa-Sep', 'married'),\n",
       " 2073)"
      ]
     },
     "execution_count": 159,
     "metadata": {},
     "output_type": "execute_result"
    }
   ],
   "source": [
    "itemsets[0]"
   ]
  },
  {
   "cell_type": "code",
   "execution_count": 160,
   "metadata": {},
   "outputs": [],
   "source": [
    "itemsets.sort(key=lambda x: x[1],reverse=True)"
   ]
  },
  {
   "cell_type": "code",
   "execution_count": 161,
   "metadata": {},
   "outputs": [
    {
     "data": {
      "text/plain": [
       "[(('Female',\n",
       "   '[-2205.0, 65367.0)_Ba-Aug',\n",
       "   'No',\n",
       "   '[0.0, 49335.8)_Pa-Sep',\n",
       "   'married'),\n",
       "  3587),\n",
       " (('university',\n",
       "   '[-2205.0, 65367.0)_Ba-Aug',\n",
       "   'No',\n",
       "   '[0.0, 49335.8)_Pa-Sep',\n",
       "   'married'),\n",
       "  2600),\n",
       " (('RevolvingCredit', 'Female', 'No', '[0.0, 49335.8)_Pa-Sep', 'married'),\n",
       "  2580),\n",
       " (('RevolvingCredit',\n",
       "   '[-2205.0, 65367.0)_Ba-Aug',\n",
       "   'No',\n",
       "   '[0.0, 49335.8)_Pa-Sep',\n",
       "   'married'),\n",
       "  2548),\n",
       " (('[10000.0, 106250.0)_Limit',\n",
       "   '[-2205.0, 65367.0)_Ba-Aug',\n",
       "   'No',\n",
       "   '[0.0, 49335.8)_Pa-Sep',\n",
       "   'married'),\n",
       "  2530),\n",
       " (('[31.8, 42.6)_Age',\n",
       "   '[-2205.0, 65367.0)_Ba-Aug',\n",
       "   'No',\n",
       "   '[0.0, 49335.8)_Pa-Sep',\n",
       "   'married'),\n",
       "  2452),\n",
       " (('[21.0, 31.8)_Age', 'Female', '[0.0, 49335.8)_Pa-Sep', 'married'), 2398),\n",
       " (('university', 'Female', 'No', '[0.0, 49335.8)_Pa-Sep', 'married'), 2265),\n",
       " (('[10000.0, 106250.0)_Limit',\n",
       "   'RevolvingCredit',\n",
       "   '[0.0, 49335.8)_Pa-Sep',\n",
       "   'married'),\n",
       "  2228),\n",
       " (('[21.0, 31.8)_Age',\n",
       "   '[-2205.0, 65367.0)_Ba-Aug',\n",
       "   'No',\n",
       "   '[0.0, 49335.8)_Pa-Sep',\n",
       "   'married'),\n",
       "  2188)]"
      ]
     },
     "execution_count": 161,
     "metadata": {},
     "output_type": "execute_result"
    }
   ],
   "source": [
    "itemsets[:10]"
   ]
  },
  {
   "cell_type": "markdown",
   "metadata": {},
   "source": [
    "### ItemSet Closed"
   ]
  },
  {
   "cell_type": "code",
   "execution_count": 164,
   "metadata": {},
   "outputs": [],
   "source": [
    "# Applichiamo l'algoritmo APriori per estrarre gli itemset che hanno un minSup > 2\n",
    "itemsets = apriori(baskets, supp=30, zmin=4, target='c') "
   ]
  },
  {
   "cell_type": "code",
   "execution_count": 165,
   "metadata": {},
   "outputs": [
    {
     "name": "stdout",
     "output_type": "stream",
     "text": [
      "('Number of itemsets:', 12)\n"
     ]
    }
   ],
   "source": [
    "print('Number of itemsets:', len(itemsets))"
   ]
  },
  {
   "cell_type": "code",
   "execution_count": 166,
   "metadata": {
    "scrolled": false
   },
   "outputs": [
    {
     "data": {
      "text/plain": [
       "(('[10000.0, 106250.0)_Limit',\n",
       "  '[-2205.0, 65367.0)_Ba-Aug',\n",
       "  '[0.0, 49335.8)_Pa-Sep',\n",
       "  'married'),\n",
       " 3639)"
      ]
     },
     "execution_count": 166,
     "metadata": {},
     "output_type": "execute_result"
    }
   ],
   "source": [
    "itemsets[0]"
   ]
  },
  {
   "cell_type": "code",
   "execution_count": 167,
   "metadata": {},
   "outputs": [],
   "source": [
    "itemsets.sort(key=lambda x: x[1],reverse=True)"
   ]
  },
  {
   "cell_type": "code",
   "execution_count": 168,
   "metadata": {},
   "outputs": [
    {
     "data": {
      "text/plain": [
       "[(('[-2205.0, 65367.0)_Ba-Aug', 'No', '[0.0, 49335.8)_Pa-Sep', 'married'),\n",
       "  5711),\n",
       " (('Female', 'No', '[0.0, 49335.8)_Pa-Sep', 'married'), 4762),\n",
       " (('Female', '[-2205.0, 65367.0)_Ba-Aug', '[0.0, 49335.8)_Pa-Sep', 'married'),\n",
       "  4531),\n",
       " (('RevolvingCredit', 'No', '[0.0, 49335.8)_Pa-Sep', 'married'), 4177),\n",
       " (('[10000.0, 106250.0)_Limit',\n",
       "   '[-2205.0, 65367.0)_Ba-Aug',\n",
       "   '[0.0, 49335.8)_Pa-Sep',\n",
       "   'married'),\n",
       "  3639),\n",
       " (('Female', '[-2205.0, 65367.0)_Ba-Aug', 'No', 'married'), 3613),\n",
       " (('Female', '[-2205.0, 65367.0)_Ba-Aug', 'No', '[0.0, 49335.8)_Pa-Sep'),\n",
       "  3608),\n",
       " (('Female',\n",
       "   '[-2205.0, 65367.0)_Ba-Aug',\n",
       "   'No',\n",
       "   '[0.0, 49335.8)_Pa-Sep',\n",
       "   'married'),\n",
       "  3587),\n",
       " (('university', 'No', '[0.0, 49335.8)_Pa-Sep', 'married'), 3569),\n",
       " (('university',\n",
       "   '[-2205.0, 65367.0)_Ba-Aug',\n",
       "   '[0.0, 49335.8)_Pa-Sep',\n",
       "   'married'),\n",
       "  3475)]"
      ]
     },
     "execution_count": 168,
     "metadata": {},
     "output_type": "execute_result"
    }
   ],
   "source": [
    "itemsets[:10]"
   ]
  },
  {
   "cell_type": "markdown",
   "metadata": {},
   "source": [
    "### ItemSet Frequenti"
   ]
  },
  {
   "cell_type": "code",
   "execution_count": 169,
   "metadata": {},
   "outputs": [],
   "source": [
    "# Applichiamo l'algoritmo APriori per estrarre gli itemset che hanno un minSup > 2\n",
    "itemsets = apriori(baskets, supp=30, zmin=4, target='a') "
   ]
  },
  {
   "cell_type": "code",
   "execution_count": 170,
   "metadata": {},
   "outputs": [
    {
     "name": "stdout",
     "output_type": "stream",
     "text": [
      "('Number of itemsets:', 12)\n"
     ]
    }
   ],
   "source": [
    "print('Number of itemsets:', len(itemsets))"
   ]
  },
  {
   "cell_type": "code",
   "execution_count": 171,
   "metadata": {
    "scrolled": false
   },
   "outputs": [
    {
     "data": {
      "text/plain": [
       "(('[10000.0, 106250.0)_Limit',\n",
       "  '[-2205.0, 65367.0)_Ba-Aug',\n",
       "  '[0.0, 49335.8)_Pa-Sep',\n",
       "  'married'),\n",
       " 3639)"
      ]
     },
     "execution_count": 171,
     "metadata": {},
     "output_type": "execute_result"
    }
   ],
   "source": [
    "itemsets[0]"
   ]
  },
  {
   "cell_type": "code",
   "execution_count": 172,
   "metadata": {},
   "outputs": [],
   "source": [
    "itemsets.sort(key=lambda x: x[1],reverse=True)"
   ]
  },
  {
   "cell_type": "code",
   "execution_count": 173,
   "metadata": {},
   "outputs": [
    {
     "data": {
      "text/plain": [
       "[(('[-2205.0, 65367.0)_Ba-Aug', 'No', '[0.0, 49335.8)_Pa-Sep', 'married'),\n",
       "  5711),\n",
       " (('Female', 'No', '[0.0, 49335.8)_Pa-Sep', 'married'), 4762),\n",
       " (('Female', '[-2205.0, 65367.0)_Ba-Aug', '[0.0, 49335.8)_Pa-Sep', 'married'),\n",
       "  4531),\n",
       " (('RevolvingCredit', 'No', '[0.0, 49335.8)_Pa-Sep', 'married'), 4177),\n",
       " (('[10000.0, 106250.0)_Limit',\n",
       "   '[-2205.0, 65367.0)_Ba-Aug',\n",
       "   '[0.0, 49335.8)_Pa-Sep',\n",
       "   'married'),\n",
       "  3639),\n",
       " (('Female', '[-2205.0, 65367.0)_Ba-Aug', 'No', 'married'), 3613),\n",
       " (('Female', '[-2205.0, 65367.0)_Ba-Aug', 'No', '[0.0, 49335.8)_Pa-Sep'),\n",
       "  3608),\n",
       " (('Female',\n",
       "   '[-2205.0, 65367.0)_Ba-Aug',\n",
       "   'No',\n",
       "   '[0.0, 49335.8)_Pa-Sep',\n",
       "   'married'),\n",
       "  3587),\n",
       " (('university', 'No', '[0.0, 49335.8)_Pa-Sep', 'married'), 3569),\n",
       " (('university',\n",
       "   '[-2205.0, 65367.0)_Ba-Aug',\n",
       "   '[0.0, 49335.8)_Pa-Sep',\n",
       "   'married'),\n",
       "  3475)]"
      ]
     },
     "execution_count": 173,
     "metadata": {},
     "output_type": "execute_result"
    }
   ],
   "source": [
    "itemsets[:10]"
   ]
  },
  {
   "cell_type": "markdown",
   "metadata": {},
   "source": [
    "### Association Rules"
   ]
  },
  {
   "cell_type": "code",
   "execution_count": 182,
   "metadata": {},
   "outputs": [],
   "source": [
    "rules = apriori(baskets, supp=60, zmin=3, target='r', conf=40, \n",
    "                report='ascl') "
   ]
  },
  {
   "cell_type": "code",
   "execution_count": 183,
   "metadata": {},
   "outputs": [
    {
     "name": "stdout",
     "output_type": "stream",
     "text": [
      "('Number of rule:', 53)\n"
     ]
    }
   ],
   "source": [
    "print('Number of rule:', len(rules))"
   ]
  },
  {
   "cell_type": "code",
   "execution_count": 186,
   "metadata": {},
   "outputs": [
    {
     "data": {
      "text/plain": [
       "('[10000.0, 106250.0)_Limit',\n",
       " ('[-2205.0, 65367.0)_Ba-Aug', '[0.0, 49335.8)_Pa-Sep', 'married'),\n",
       " 3639,\n",
       " 0.3639,\n",
       " 0.4915574766986357,\n",
       " 1.1796435725909185)"
      ]
     },
     "execution_count": 186,
     "metadata": {},
     "output_type": "execute_result"
    }
   ],
   "source": [
    "# (2443, (3086,), 3, 0.013215859030837005, 1.0, 9.869565217391305)\n",
    "\n",
    "# i primi formano l'association rule, quindi vuol dire che quando compro 2443 spesso compro anche 3086\n",
    "# poi il terzo è il support dell'item set, il quarto è il support relativo espresso come frazione\n",
    "# poi il quinto è la confidence della rule, il sesto è il lift value.\n",
    "rules[0]"
   ]
  },
  {
   "cell_type": "code",
   "execution_count": 188,
   "metadata": {},
   "outputs": [],
   "source": [
    "rules.sort(key=lambda x: x[4],reverse=True)"
   ]
  },
  {
   "cell_type": "code",
   "execution_count": 201,
   "metadata": {},
   "outputs": [
    {
     "name": "stdout",
     "output_type": "stream",
     "text": [
      " \r",
      "owcolor{cyan!20}  1  &  ('No', '[0.0, 49335.8)_Pa-Sep')  &  married  &  0.993587226803  &  1.00109544262 \\%\\\n",
      "2  &  ('[-2205.0, 65367.0)_Ba-Aug', 'married')  &  [0.0, 49335.8)_Pa-Sep  &  0.99355791169  &  1.00981594846 \\%\\\n",
      " \r",
      "owcolor{cyan!20}  3  &  ('Female', '[0.0, 49335.8)_Pa-Sep')  &  married  &  0.993037135279  &  1.00054119424 \\%\\\n",
      "4  &  ('[-2205.0, 65367.0)_Ba-Aug', '[0.0, 49335.8)_Pa-Sep')  &  married  &  0.992226243131  &  0.999724174439 \\%\\\n",
      " \r",
      "owcolor{cyan!20}  5  &  ('Female', 'married')  &  [0.0, 49335.8)_Pa-Sep  &  0.983741172606  &  0.999838573642 \\%\\\n",
      "6  &  ('No', 'married')  &  [0.0, 49335.8)_Pa-Sep  &  0.981132075472  &  0.997186782673 \\%\\\n"
     ]
    }
   ],
   "source": [
    "count = 1\n",
    "Cyan = True\n",
    "for r in rules:\n",
    "    if(r[4]>0.8 and r[4]):\n",
    "        if(Cyan):\n",
    "            Cyan = False\n",
    "            print \" \\rowcolor{cyan!20} \",count, \" & \",r[1],\" & \", r[0], \" & \", r[4], \" & \", r[5],\"\\%\\\\\"\n",
    "        else:\n",
    "            Cyan = True\n",
    "            print count, \" & \",r[1],\" & \", r[0], \" & \", r[4], \" & \", r[5],\"\\%\\\\\"\n",
    "        count += 1\n",
    "        \n",
    "\n",
    "                                                                     "
   ]
  },
  {
   "cell_type": "code",
   "execution_count": 203,
   "metadata": {},
   "outputs": [
    {
     "name": "stdout",
     "output_type": "stream",
     "text": [
      " \r",
      "owcolor{cyan!20}  1  &  ('No', '[0.0, 49335.8)_Pa-Sep', 'married')  &  Female  &  0.627239199157 \\% &  1.02289497579 \\\n",
      "2  &  ('No', 'married')  &  Female  &  0.627164642026 \\% &  1.02277338882 \\\n",
      " \r",
      "owcolor{cyan!20}  3  &  ('No', '[0.0, 49335.8)_Pa-Sep')  &  Female  &  0.627143044104 \\% &  1.02273816716 \\\n",
      "4  &  ('[0.0, 49335.8)_Pa-Sep', 'married')  &  Female  &  0.613415258577 \\% &  1.00035104138 \\\n",
      " \r",
      "owcolor{cyan!20}  5  &  ('[-2205.0, 65367.0)_Ba-Aug', 'married')  &  Female  &  0.61253523017 \\% &  0.998915900474 \\\n",
      "6  &  ('[-2205.0, 65367.0)_Ba-Aug', '[0.0, 49335.8)_Pa-Sep', 'married')  &  Female  &  0.612049169256 \\% &  0.998123237534 \\\n",
      " \r",
      "owcolor{cyan!20}  7  &  ('[-2205.0, 65367.0)_Ba-Aug', '[0.0, 49335.8)_Pa-Sep')  &  Female  &  0.611446186838 \\% &  0.997139900258 \\\n"
     ]
    }
   ],
   "source": [
    "count = 1\n",
    "Cyan = True\n",
    "for r in rules:\n",
    "    if(r[4]>=0.6 and r[4]<0.7):\n",
    "        if(Cyan):\n",
    "            Cyan = False\n",
    "            print \" \\rowcolor{cyan!20} \",count, \" & \",r[1],\" & \", r[0], \" & \", r[4], \"\\% & \", r[5],\"\\\\\"\n",
    "        else:\n",
    "            Cyan = True\n",
    "            print count, \" & \",r[1],\" & \", r[0], \" & \", r[4], \"\\% & \", r[5],\"\\\\\"\n",
    "        count += 1\n",
    "        \n",
    "\n",
    "                                                                     "
   ]
  },
  {
   "cell_type": "code",
   "execution_count": null,
   "metadata": {},
   "outputs": [],
   "source": []
  }
 ],
 "metadata": {
  "kernelspec": {
   "display_name": "Python 2",
   "language": "python",
   "name": "python2"
  },
  "language_info": {
   "codemirror_mode": {
    "name": "ipython",
    "version": 2
   },
   "file_extension": ".py",
   "mimetype": "text/x-python",
   "name": "python",
   "nbconvert_exporter": "python",
   "pygments_lexer": "ipython2",
   "version": "2.7.15"
  }
 },
 "nbformat": 4,
 "nbformat_minor": 2
}
