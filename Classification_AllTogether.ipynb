{
 "cells": [
  {
   "cell_type": "code",
   "execution_count": 1,
   "metadata": {},
   "outputs": [],
   "source": [
    "import pandas as pd\n",
    "import numpy as np\n",
    "from sklearn.metrics import confusion_matrix\n",
    "from collections import Counter\n",
    "from sklearn.tree import DecisionTreeClassifier\n",
    "from sklearn.model_selection import train_test_split\n",
    "from imblearn.under_sampling import RandomUnderSampler \n",
    "from sklearn.model_selection import GridSearchCV\n",
    "from sklearn.metrics import roc_auc_score\n",
    "from sklearn.model_selection import cross_val_score\n",
    "from sklearn.metrics import accuracy_score, f1_score, recall_score, precision_score, classification_report\n",
    "from sklearn.ensemble import GradientBoostingClassifier\n",
    "import pydotplus\n",
    "from sklearn import tree\n",
    "from IPython.display import Image\n",
    "import itertools\n",
    "import numpy as np\n",
    "import matplotlib.pyplot as plt\n",
    "from imblearn.over_sampling import SMOTE, ADASYN\n",
    "from sklearn.datasets import make_classification\n",
    "from sklearn.model_selection import StratifiedKFold\n",
    "from sklearn.feature_selection import RFE\n",
    "from sklearn.ensemble import ExtraTreesClassifier\n",
    "from sklearn.feature_selection import RFECV\n",
    "from sklearn.ensemble import RandomForestClassifier\n",
    "import os, errno\n",
    "import matplotlib.pyplot as plt\n",
    "from sklearn.neural_network import MLPClassifier\n",
    "from sklearn.cluster import DBSCAN\n"
   ]
  },
  {
   "cell_type": "markdown",
   "metadata": {},
   "source": [
    "# Utilities "
   ]
  },
  {
   "cell_type": "code",
   "execution_count": 2,
   "metadata": {},
   "outputs": [],
   "source": [
    "\n",
    "def plot_confusion_matrix(cm, classes,\n",
    "                          normalize=False,\n",
    "                          title='Confusion matrix',\n",
    "                          cmap=plt.cm.Blues, save=\"False\", path=\"/home/\"):\n",
    "    \"\"\"\n",
    "    This function prints and plots the confusion matrix.\n",
    "    Normalization can be applied by setting `normalize=True`.\n",
    "    \"\"\"\n",
    "    if normalize:\n",
    "        cm = cm.astype('float') / cm.sum(axis=1)[:, np.newaxis]\n",
    "        print(\"Normalized confusion matrix\")\n",
    "    else:\n",
    "        print('Confusion matrix, without normalization')\n",
    "\n",
    "    print(cm)\n",
    "\n",
    "    plt.imshow(cm, interpolation='nearest', cmap=cmap)\n",
    "    plt.title(title)\n",
    "    plt.colorbar()\n",
    "    tick_marks = np.arange(len(classes))\n",
    "    plt.xticks(tick_marks, classes, rotation=45)\n",
    "    plt.yticks(tick_marks, classes)\n",
    "\n",
    "    fmt = '.2f' if normalize else 'd'\n",
    "    thresh = cm.max() / 2.\n",
    "    for i, j in itertools.product(range(cm.shape[0]), range(cm.shape[1])):\n",
    "        plt.text(j, i, format(cm[i, j], fmt),\n",
    "                 horizontalalignment=\"center\",\n",
    "                 color=\"white\" if cm[i, j] > thresh else \"black\")\n",
    "\n",
    "    plt.ylabel('True label')\n",
    "    plt.xlabel('Predicted label')\n",
    "    plt.tight_layout()\n",
    "    if save is True:\n",
    "        plt.savefig(path+\".pdf\")\n",
    "    plt.clf()\n",
    "    \n",
    "def plot_confusion_matrix2(cm, classes,\n",
    "                          normalize=False,\n",
    "                          title='Confusion matrix',\n",
    "                          cmap=plt.cm.Blues):\n",
    "    if normalize:\n",
    "        cm = cm.astype('float') / cm.sum(axis=1)[:, np.newaxis]\n",
    "        print(\"Normalized confusion matrix\")\n",
    "    else:\n",
    "        print('Confusion matrix, without normalization')\n",
    "\n",
    "    print(cm)\n",
    "\n",
    "    plt.imshow(cm, interpolation='nearest', cmap=cmap)\n",
    "    plt.title(title)\n",
    "    plt.colorbar()\n",
    "    tick_marks = np.arange(len(classes))\n",
    "    plt.xticks(tick_marks, classes, rotation=45)\n",
    "    plt.yticks(tick_marks, classes)\n",
    "\n",
    "    fmt = '.2f' if normalize else 'd'\n",
    "    thresh = cm.max() / 2.\n",
    "    for i, j in itertools.product(range(cm.shape[0]), range(cm.shape[1])):\n",
    "        plt.text(j, i, format(cm[i, j], fmt),\n",
    "                 horizontalalignment=\"center\",\n",
    "                 color=\"white\" if cm[i, j] > thresh else \"black\")\n",
    "\n",
    "    plt.ylabel('True label')\n",
    "    plt.xlabel('Predicted label')\n",
    "    plt.tight_layout()\n",
    "\n",
    "\n",
    "def saveInfos(fileName, class1, class2, rat, roc, best_params, graph, attributes, feature_importance, cva, cvf, report1, a1, r1, p1, f1, cm1, report2, a2, r2, p2, f2, cm2, rfroc, rf_best_params, feature_importance2, cvarf, cvfrf, report3, a3, r3, p3, f3, cm3):\n",
    "    file_path = '/home/alessandro/Desktop/DM_JAN/models/'+str(fileName)+\"/\"\n",
    "    print(file_path)\n",
    "    directory = os.path.dirname(file_path)\n",
    "    if not os.path.exists(directory):\n",
    "        os.makedirs(directory)\n",
    "    else:\n",
    "        print(\"Dir already exists\")\n",
    "        return\n",
    "    graph.write_png(file_path+\"dtree.png\")\n",
    "    plot_confusion_matrix(cm1, classes=class1, normalize=True, title='Normalized confusion matrix', save=True, path=file_path+\"cmTrain\")\n",
    "    plot_confusion_matrix(cm2, classes=class1, normalize=True, title='Normalized confusion matrix', save=True, path=file_path+\"cmTest\")\n",
    "    plot_confusion_matrix(cm3, classes=class2, normalize=True, title='Normalized confusion matrix', save=True, path=file_path+\"cmTestRF\")\n",
    "    txt = file_path+\"infos.txt\"\n",
    "    file = open(txt,\"w\") \n",
    "    file.write(\"Oversampler Ratio: {}\\n\".format(rat)) \n",
    "    file.write(\"DecisionTree: Area under the ROC curve = {}\\n\".format(roc)) \n",
    "    file.write(\"Best Params: {}\\n\".format(best_params))\n",
    "    for col, imp in zip(attributes, feature_importance):\n",
    "        file.write(\"Feature Importance: {} {}\\n\".format(col, imp))\n",
    "    file.write(\"CrossValidScore_ACC_F1_Score: {} {}\\n\".format(cva,cvf))\n",
    "    file.write(\"***************\\n\") \n",
    "    file.write(\"Report_Train: {}\\n\".format(report1))\n",
    "    file.write(\"***************\\n\") \n",
    "    file.write(\"Accuracy_Train: {}\\n\".format(a1))\n",
    "    file.write(\"Recall_Train: {}\\n\".format(r1))\n",
    "    file.write(\"Precision_Train: {}\\n\".format(p1))\n",
    "    file.write(\"F1_Score_Train: {}\\n\".format(f1))\n",
    "    file.write(\"##############################\\n\") \n",
    "    file.write(\"**************\\n*\") \n",
    "    file.write(\"Report_Test: {}\\n\".format(report2))\n",
    "    file.write(\"***************\\n\") \n",
    "    file.write(\"Accuracy_Test: {}\\n\".format(a2))\n",
    "    file.write(\"Recall_Test: {}\\n\".format(r2))\n",
    "    file.write(\"Precision_Test: {}\\n\".format(p2))\n",
    "    file.write(\"F1_Score_Test: {}\\n\".format(f2))\n",
    "    file.write(\"##############################\\n\") \n",
    "    file.write(\"RandomForest: Area under the ROC curve = {}\\n\".format(rfroc)) \n",
    "    file.write(\"Best Params: {}\\n\".format(rf_best_params)) \n",
    "    for col, imp in zip(attributes, feature_importance2):\n",
    "        file.write(\"Feature ImportanceRF: {} {}\\n\".format(col, imp)) \n",
    "    file.write(\"***************\\n\") \n",
    "    file.write(\"Report_Test: {}\\n\".format(report3))\n",
    "    file.write(\"***************\\n\") \n",
    "    file.write(\"Accuracy_Test: {}\\n\".format(a3))\n",
    "    file.write(\"Recall_Test: {}\\n\".format(r3))\n",
    "    file.write(\"Precision_Test: {}\\n\".format(p3))\n",
    "    file.write(\"F1_Score_Test: {}\\n\".format(f3))\n",
    "    file.close() \n"
   ]
  },
  {
   "cell_type": "markdown",
   "metadata": {},
   "source": [
    "# Filtering Attributes"
   ]
  },
  {
   "cell_type": "code",
   "execution_count": 3,
   "metadata": {},
   "outputs": [
    {
     "ename": "FileNotFoundError",
     "evalue": "[Errno 2] File b'/home/dataset.csv' does not exist: b'/home/dataset.csv'",
     "output_type": "error",
     "traceback": [
      "\u001b[0;31m---------------------------------------------------------------------------\u001b[0m",
      "\u001b[0;31mFileNotFoundError\u001b[0m                         Traceback (most recent call last)",
      "\u001b[0;32m<ipython-input-3-8dc4eeedac9d>\u001b[0m in \u001b[0;36m<module>\u001b[0;34m\u001b[0m\n\u001b[0;32m----> 1\u001b[0;31m \u001b[0mreduced\u001b[0m \u001b[0;34m=\u001b[0m \u001b[0mpd\u001b[0m\u001b[0;34m.\u001b[0m\u001b[0mread_csv\u001b[0m\u001b[0;34m(\u001b[0m\u001b[0;34m\"/home/dataset.csv\"\u001b[0m\u001b[0;34m)\u001b[0m\u001b[0;34m\u001b[0m\u001b[0;34m\u001b[0m\u001b[0m\n\u001b[0m\u001b[1;32m      2\u001b[0m \u001b[0mreduced\u001b[0m\u001b[0;34m[\u001b[0m\u001b[0;34m\"sums\"\u001b[0m\u001b[0;34m]\u001b[0m \u001b[0;34m=\u001b[0m \u001b[0mreduced\u001b[0m\u001b[0;34m.\u001b[0m\u001b[0miloc\u001b[0m\u001b[0;34m[\u001b[0m\u001b[0;34m:\u001b[0m\u001b[0;34m,\u001b[0m \u001b[0;36m5\u001b[0m\u001b[0;34m:\u001b[0m\u001b[0;36m10\u001b[0m\u001b[0;34m]\u001b[0m\u001b[0;34m.\u001b[0m\u001b[0msum\u001b[0m\u001b[0;34m(\u001b[0m\u001b[0maxis\u001b[0m\u001b[0;34m=\u001b[0m\u001b[0;36m1\u001b[0m\u001b[0;34m)\u001b[0m\u001b[0;34m\u001b[0m\u001b[0;34m\u001b[0m\u001b[0m\n\u001b[1;32m      3\u001b[0m \u001b[0mreduced\u001b[0m\u001b[0;34m[\u001b[0m\u001b[0;34m\"g3\"\u001b[0m\u001b[0;34m]\u001b[0m \u001b[0;34m=\u001b[0m \u001b[0mreduced\u001b[0m\u001b[0;34m.\u001b[0m\u001b[0miloc\u001b[0m\u001b[0;34m[\u001b[0m\u001b[0;34m:\u001b[0m\u001b[0;34m,\u001b[0m \u001b[0;36m5\u001b[0m\u001b[0;34m:\u001b[0m\u001b[0;36m10\u001b[0m\u001b[0;34m]\u001b[0m\u001b[0;34m.\u001b[0m\u001b[0mge\u001b[0m\u001b[0;34m(\u001b[0m\u001b[0;36m1\u001b[0m\u001b[0;34m,\u001b[0m\u001b[0maxis\u001b[0m\u001b[0;34m=\u001b[0m\u001b[0;36m1\u001b[0m\u001b[0;34m)\u001b[0m\u001b[0;34m.\u001b[0m\u001b[0msum\u001b[0m\u001b[0;34m(\u001b[0m\u001b[0maxis\u001b[0m\u001b[0;34m=\u001b[0m\u001b[0;36m1\u001b[0m\u001b[0;34m)\u001b[0m\u001b[0;34m\u001b[0m\u001b[0;34m\u001b[0m\u001b[0m\n\u001b[1;32m      4\u001b[0m \u001b[0;34m\u001b[0m\u001b[0m\n\u001b[1;32m      5\u001b[0m \u001b[0mcols\u001b[0m \u001b[0;34m=\u001b[0m \u001b[0mreduced\u001b[0m\u001b[0;34m.\u001b[0m\u001b[0mcolumns\u001b[0m\u001b[0;34m.\u001b[0m\u001b[0mtolist\u001b[0m\u001b[0;34m(\u001b[0m\u001b[0;34m)\u001b[0m\u001b[0;34m\u001b[0m\u001b[0;34m\u001b[0m\u001b[0m\n",
      "\u001b[0;32m~/.local/lib/python3.6/site-packages/pandas/io/parsers.py\u001b[0m in \u001b[0;36mparser_f\u001b[0;34m(filepath_or_buffer, sep, delimiter, header, names, index_col, usecols, squeeze, prefix, mangle_dupe_cols, dtype, engine, converters, true_values, false_values, skipinitialspace, skiprows, skipfooter, nrows, na_values, keep_default_na, na_filter, verbose, skip_blank_lines, parse_dates, infer_datetime_format, keep_date_col, date_parser, dayfirst, iterator, chunksize, compression, thousands, decimal, lineterminator, quotechar, quoting, doublequote, escapechar, comment, encoding, dialect, tupleize_cols, error_bad_lines, warn_bad_lines, delim_whitespace, low_memory, memory_map, float_precision)\u001b[0m\n\u001b[1;32m    700\u001b[0m                     skip_blank_lines=skip_blank_lines)\n\u001b[1;32m    701\u001b[0m \u001b[0;34m\u001b[0m\u001b[0m\n\u001b[0;32m--> 702\u001b[0;31m         \u001b[0;32mreturn\u001b[0m \u001b[0m_read\u001b[0m\u001b[0;34m(\u001b[0m\u001b[0mfilepath_or_buffer\u001b[0m\u001b[0;34m,\u001b[0m \u001b[0mkwds\u001b[0m\u001b[0;34m)\u001b[0m\u001b[0;34m\u001b[0m\u001b[0;34m\u001b[0m\u001b[0m\n\u001b[0m\u001b[1;32m    703\u001b[0m \u001b[0;34m\u001b[0m\u001b[0m\n\u001b[1;32m    704\u001b[0m     \u001b[0mparser_f\u001b[0m\u001b[0;34m.\u001b[0m\u001b[0m__name__\u001b[0m \u001b[0;34m=\u001b[0m \u001b[0mname\u001b[0m\u001b[0;34m\u001b[0m\u001b[0;34m\u001b[0m\u001b[0m\n",
      "\u001b[0;32m~/.local/lib/python3.6/site-packages/pandas/io/parsers.py\u001b[0m in \u001b[0;36m_read\u001b[0;34m(filepath_or_buffer, kwds)\u001b[0m\n\u001b[1;32m    427\u001b[0m \u001b[0;34m\u001b[0m\u001b[0m\n\u001b[1;32m    428\u001b[0m     \u001b[0;31m# Create the parser.\u001b[0m\u001b[0;34m\u001b[0m\u001b[0;34m\u001b[0m\u001b[0;34m\u001b[0m\u001b[0m\n\u001b[0;32m--> 429\u001b[0;31m     \u001b[0mparser\u001b[0m \u001b[0;34m=\u001b[0m \u001b[0mTextFileReader\u001b[0m\u001b[0;34m(\u001b[0m\u001b[0mfilepath_or_buffer\u001b[0m\u001b[0;34m,\u001b[0m \u001b[0;34m**\u001b[0m\u001b[0mkwds\u001b[0m\u001b[0;34m)\u001b[0m\u001b[0;34m\u001b[0m\u001b[0;34m\u001b[0m\u001b[0m\n\u001b[0m\u001b[1;32m    430\u001b[0m \u001b[0;34m\u001b[0m\u001b[0m\n\u001b[1;32m    431\u001b[0m     \u001b[0;32mif\u001b[0m \u001b[0mchunksize\u001b[0m \u001b[0;32mor\u001b[0m \u001b[0miterator\u001b[0m\u001b[0;34m:\u001b[0m\u001b[0;34m\u001b[0m\u001b[0;34m\u001b[0m\u001b[0m\n",
      "\u001b[0;32m~/.local/lib/python3.6/site-packages/pandas/io/parsers.py\u001b[0m in \u001b[0;36m__init__\u001b[0;34m(self, f, engine, **kwds)\u001b[0m\n\u001b[1;32m    893\u001b[0m             \u001b[0mself\u001b[0m\u001b[0;34m.\u001b[0m\u001b[0moptions\u001b[0m\u001b[0;34m[\u001b[0m\u001b[0;34m'has_index_names'\u001b[0m\u001b[0;34m]\u001b[0m \u001b[0;34m=\u001b[0m \u001b[0mkwds\u001b[0m\u001b[0;34m[\u001b[0m\u001b[0;34m'has_index_names'\u001b[0m\u001b[0;34m]\u001b[0m\u001b[0;34m\u001b[0m\u001b[0;34m\u001b[0m\u001b[0m\n\u001b[1;32m    894\u001b[0m \u001b[0;34m\u001b[0m\u001b[0m\n\u001b[0;32m--> 895\u001b[0;31m         \u001b[0mself\u001b[0m\u001b[0;34m.\u001b[0m\u001b[0m_make_engine\u001b[0m\u001b[0;34m(\u001b[0m\u001b[0mself\u001b[0m\u001b[0;34m.\u001b[0m\u001b[0mengine\u001b[0m\u001b[0;34m)\u001b[0m\u001b[0;34m\u001b[0m\u001b[0;34m\u001b[0m\u001b[0m\n\u001b[0m\u001b[1;32m    896\u001b[0m \u001b[0;34m\u001b[0m\u001b[0m\n\u001b[1;32m    897\u001b[0m     \u001b[0;32mdef\u001b[0m \u001b[0mclose\u001b[0m\u001b[0;34m(\u001b[0m\u001b[0mself\u001b[0m\u001b[0;34m)\u001b[0m\u001b[0;34m:\u001b[0m\u001b[0;34m\u001b[0m\u001b[0;34m\u001b[0m\u001b[0m\n",
      "\u001b[0;32m~/.local/lib/python3.6/site-packages/pandas/io/parsers.py\u001b[0m in \u001b[0;36m_make_engine\u001b[0;34m(self, engine)\u001b[0m\n\u001b[1;32m   1120\u001b[0m     \u001b[0;32mdef\u001b[0m \u001b[0m_make_engine\u001b[0m\u001b[0;34m(\u001b[0m\u001b[0mself\u001b[0m\u001b[0;34m,\u001b[0m \u001b[0mengine\u001b[0m\u001b[0;34m=\u001b[0m\u001b[0;34m'c'\u001b[0m\u001b[0;34m)\u001b[0m\u001b[0;34m:\u001b[0m\u001b[0;34m\u001b[0m\u001b[0;34m\u001b[0m\u001b[0m\n\u001b[1;32m   1121\u001b[0m         \u001b[0;32mif\u001b[0m \u001b[0mengine\u001b[0m \u001b[0;34m==\u001b[0m \u001b[0;34m'c'\u001b[0m\u001b[0;34m:\u001b[0m\u001b[0;34m\u001b[0m\u001b[0;34m\u001b[0m\u001b[0m\n\u001b[0;32m-> 1122\u001b[0;31m             \u001b[0mself\u001b[0m\u001b[0;34m.\u001b[0m\u001b[0m_engine\u001b[0m \u001b[0;34m=\u001b[0m \u001b[0mCParserWrapper\u001b[0m\u001b[0;34m(\u001b[0m\u001b[0mself\u001b[0m\u001b[0;34m.\u001b[0m\u001b[0mf\u001b[0m\u001b[0;34m,\u001b[0m \u001b[0;34m**\u001b[0m\u001b[0mself\u001b[0m\u001b[0;34m.\u001b[0m\u001b[0moptions\u001b[0m\u001b[0;34m)\u001b[0m\u001b[0;34m\u001b[0m\u001b[0;34m\u001b[0m\u001b[0m\n\u001b[0m\u001b[1;32m   1123\u001b[0m         \u001b[0;32melse\u001b[0m\u001b[0;34m:\u001b[0m\u001b[0;34m\u001b[0m\u001b[0;34m\u001b[0m\u001b[0m\n\u001b[1;32m   1124\u001b[0m             \u001b[0;32mif\u001b[0m \u001b[0mengine\u001b[0m \u001b[0;34m==\u001b[0m \u001b[0;34m'python'\u001b[0m\u001b[0;34m:\u001b[0m\u001b[0;34m\u001b[0m\u001b[0;34m\u001b[0m\u001b[0m\n",
      "\u001b[0;32m~/.local/lib/python3.6/site-packages/pandas/io/parsers.py\u001b[0m in \u001b[0;36m__init__\u001b[0;34m(self, src, **kwds)\u001b[0m\n\u001b[1;32m   1851\u001b[0m         \u001b[0mkwds\u001b[0m\u001b[0;34m[\u001b[0m\u001b[0;34m'usecols'\u001b[0m\u001b[0;34m]\u001b[0m \u001b[0;34m=\u001b[0m \u001b[0mself\u001b[0m\u001b[0;34m.\u001b[0m\u001b[0musecols\u001b[0m\u001b[0;34m\u001b[0m\u001b[0;34m\u001b[0m\u001b[0m\n\u001b[1;32m   1852\u001b[0m \u001b[0;34m\u001b[0m\u001b[0m\n\u001b[0;32m-> 1853\u001b[0;31m         \u001b[0mself\u001b[0m\u001b[0;34m.\u001b[0m\u001b[0m_reader\u001b[0m \u001b[0;34m=\u001b[0m \u001b[0mparsers\u001b[0m\u001b[0;34m.\u001b[0m\u001b[0mTextReader\u001b[0m\u001b[0;34m(\u001b[0m\u001b[0msrc\u001b[0m\u001b[0;34m,\u001b[0m \u001b[0;34m**\u001b[0m\u001b[0mkwds\u001b[0m\u001b[0;34m)\u001b[0m\u001b[0;34m\u001b[0m\u001b[0;34m\u001b[0m\u001b[0m\n\u001b[0m\u001b[1;32m   1854\u001b[0m         \u001b[0mself\u001b[0m\u001b[0;34m.\u001b[0m\u001b[0munnamed_cols\u001b[0m \u001b[0;34m=\u001b[0m \u001b[0mself\u001b[0m\u001b[0;34m.\u001b[0m\u001b[0m_reader\u001b[0m\u001b[0;34m.\u001b[0m\u001b[0munnamed_cols\u001b[0m\u001b[0;34m\u001b[0m\u001b[0;34m\u001b[0m\u001b[0m\n\u001b[1;32m   1855\u001b[0m \u001b[0;34m\u001b[0m\u001b[0m\n",
      "\u001b[0;32mpandas/_libs/parsers.pyx\u001b[0m in \u001b[0;36mpandas._libs.parsers.TextReader.__cinit__\u001b[0;34m()\u001b[0m\n",
      "\u001b[0;32mpandas/_libs/parsers.pyx\u001b[0m in \u001b[0;36mpandas._libs.parsers.TextReader._setup_parser_source\u001b[0;34m()\u001b[0m\n",
      "\u001b[0;31mFileNotFoundError\u001b[0m: [Errno 2] File b'/home/dataset.csv' does not exist: b'/home/dataset.csv'"
     ]
    }
   ],
   "source": [
    "reduced = pd.read_csv(\"/home/dataset.csv\")\n",
    "reduced[\"sums\"] = reduced.iloc[:, 5:10].sum(axis=1)\n",
    "reduced[\"g3\"] = reduced.iloc[:, 5:10].ge(1,axis=1).sum(axis=1)\n",
    "\n",
    "cols = reduced.columns.tolist()\n",
    "cols.remove('age')\n",
    "cols.remove('status')\n",
    "cols.remove('education')\n",
    "cols.remove('sex')\n",
    "cols.remove('credit_default')\n",
    "cols.remove('pa-apr')\n",
    "cols.remove('pa-may')\n",
    "cols.remove('pa-jun')\n",
    "cols.remove('pa-jul')\n",
    "cols.remove('pa-aug')\n",
    "cols.remove('pa-sep')\n",
    "cols.remove('ps-apr')\n",
    "cols.remove('ps-may')\n",
    "cols.remove('ps-jun')\n",
    "cols.remove('ps-jul')\n",
    "cols.remove('ps-aug')\n",
    "cols.remove('ps-sep')\n",
    "cols.remove('sums')\n",
    "cols.remove('ba-apr')\n",
    "cols.remove('ba-may')\n",
    "cols.remove('ba-jun')\n",
    "cols.remove('ba-jul')\n",
    "cols.remove('ba-aug')\n",
    "cols.remove('ba-sep')\n",
    "cols.remove('g3')\n",
    "\n",
    "    \n",
    "reduced = reduced.filter(['g3','ps-sep','ps-apr','ps-jul','ps-aug','ps-jun','ps-may','credit_default'], axis=1)\n",
    "#reduced = reduced.filter(['ps-sep','g3','ps-apr','credit_default'], axis=1)\n",
    "#reduced= reduced.drop(columns=['limit','varps','ps-apr','ps-may','ps-aug','ps-jul','ps-jun','ba-sep','ba-sep','ba-aug','ba-jul','ba-jun','ba-may','ba-apr','pa-sep','pa-aug','pa-jun','pa-may','pa-apr','sums'])\n",
    "#print(reduced.head)\n",
    "\n"
   ]
  },
  {
   "cell_type": "markdown",
   "metadata": {},
   "source": [
    "# Spit dataset in Training and Test set"
   ]
  },
  {
   "cell_type": "code",
   "execution_count": null,
   "metadata": {},
   "outputs": [],
   "source": [
    "attributes = [col for col in reduced.columns if col != 'credit_default']\n",
    "X = reduced[attributes]\n",
    "y = reduced['credit_default']\n",
    "X_train, X_test, y_train, y_test = train_test_split(X, y,test_size=0.3, random_state=100, stratify=y)"
   ]
  },
  {
   "cell_type": "markdown",
   "metadata": {},
   "source": [
    "# UnderSampling"
   ]
  },
  {
   "cell_type": "code",
   "execution_count": null,
   "metadata": {},
   "outputs": [],
   "source": [
    "rat=1\n",
    "\n",
    "sm = RandomUnderSampler(ratio=rat, random_state=42)\n",
    "\n",
    "X_train, y_train = sm.fit_sample(X_train, y_train)\n",
    "X_train.shape, y_train.shape \n",
    "print(X_train.shape)\n",
    "print(y_train.shape)\n",
    "print(X_test.shape)\n",
    "print(y_test.shape)"
   ]
  },
  {
   "cell_type": "markdown",
   "metadata": {},
   "source": [
    "# Grid Search"
   ]
  },
  {
   "cell_type": "code",
   "execution_count": null,
   "metadata": {},
   "outputs": [],
   "source": [
    "\n",
    "param_grid = {'criterion': ['gini', 'entropy'],'min_samples_split' : range(2,300,50),'min_samples_leaf' : range(2,300,50),'max_depth': np.arange(2, 7)}\n",
    "dt1 = GridSearchCV(DecisionTreeClassifier(splitter=\"best\"), param_grid, cv=StratifiedKFold(15), scoring='accuracy')\n",
    "dt1_fit = dt1.fit(X_train, y_train)\n",
    "\n",
    "tree_performance = roc_auc_score(y_test, dt1_fit.predict_proba(X_test)[:, 1])\n",
    "print(\"DecisionTree: Area under the ROC curve = {}\".format(tree_performance))\n",
    "opt_dt1 = dt1_fit.best_estimator_\n",
    "print(\"{}\".format(dt1_fit.best_params_))\n"
   ]
  },
  {
   "cell_type": "markdown",
   "metadata": {},
   "source": [
    "# Cross Validation"
   ]
  },
  {
   "cell_type": "code",
   "execution_count": null,
   "metadata": {},
   "outputs": [],
   "source": [
    "scores = cross_val_score(opt_dt1, X, y, cv=10)\n",
    "print('Accuracy: %0.4f (+/- %0.2f)' % (scores.mean(), scores.std() * 2))\n",
    "cva=('Accuracy: %0.4f (+/- %0.2f)' % (scores.mean(), scores.std() * 2))\n",
    "\n",
    "scores = cross_val_score(opt_dt1, X, y, cv=10, scoring='f1_macro')\n",
    "print('F1-score: %0.4f (+/- %0.2f)' % (scores.mean(), scores.std() * 2))\n",
    "cvf=('F1-score: %0.4f (+/- %0.2f)' % (scores.mean(), scores.std() * 2))"
   ]
  },
  {
   "cell_type": "markdown",
   "metadata": {},
   "source": [
    "# Decision Tree\n"
   ]
  },
  {
   "cell_type": "code",
   "execution_count": null,
   "metadata": {
    "scrolled": true
   },
   "outputs": [],
   "source": [
    "for col, imp in zip(attributes, opt_dt1.feature_importances_):\n",
    "    print(col, imp)\n",
    "    \n",
    "dot_data = tree.export_graphviz(opt_dt1, out_file=None,  \n",
    "                                feature_names=attributes, \n",
    "                                class_names=opt_dt1.classes_,  \n",
    "                                filled=True, rounded=True,  \n",
    "                                special_characters=True)  \n",
    "graph = pydotplus.graph_from_dot_data(dot_data)  \n",
    "Image(graph.create_png())"
   ]
  },
  {
   "cell_type": "code",
   "execution_count": null,
   "metadata": {},
   "outputs": [],
   "source": [
    "y_pred1 = opt_dt1.predict(X_train)\n",
    "a1 = ('Accuracy %s' % accuracy_score(y_train, y_pred1))\n",
    "print(a1)\n",
    "r1 = ('Recall: %s' %  recall_score(y_train, y_pred1, average='weighted'))\n",
    "print(r1)\n",
    "p1 = ('Precision: %s' %  precision_score(y_train, y_pred1, average='weighted'))\n",
    "print(p1)\n",
    "f1=('F1-score %s' % f1_score(y_train, y_pred1, average='weighted'))\n",
    "print(f1)"
   ]
  },
  {
   "cell_type": "code",
   "execution_count": null,
   "metadata": {},
   "outputs": [],
   "source": [
    "report1 = classification_report(y_train, y_pred1)\n",
    "print(report1)\n",
    "cm1 = confusion_matrix(y_train, y_pred1)\n",
    "plot_confusion_matrix(cm1, classes=opt_dt1.classes_, normalize=True, title='Normalized confusion matrix')"
   ]
  },
  {
   "cell_type": "code",
   "execution_count": null,
   "metadata": {},
   "outputs": [],
   "source": [
    "y_pred2 = opt_dt1.predict(X_test)\n",
    "a2=('Accuracy %s' % accuracy_score(y_test, y_pred2))\n",
    "print(a2)\n",
    "r2=('Recall: %s' %  recall_score(y_test, y_pred2, average='weighted'))\n",
    "print(r2)\n",
    "p2=('Precision: %s' %  precision_score(y_test, y_pred2, average='weighted'))\n",
    "print(p2)\n",
    "f2=('F1-score %s' % f1_score(y_test, y_pred2, average='weighted'))\n",
    "print(f2)"
   ]
  },
  {
   "cell_type": "code",
   "execution_count": null,
   "metadata": {
    "scrolled": true
   },
   "outputs": [],
   "source": [
    "report2 = classification_report(y_test, y_pred2)\n",
    "print(report2)\n",
    "cm2 =confusion_matrix(y_test, y_pred2)\n",
    "plot_confusion_matrix(cm2, classes=opt_dt1.classes_, normalize=True, title='Normalized confusion matrix')"
   ]
  },
  {
   "cell_type": "markdown",
   "metadata": {},
   "source": [
    "# Random Forest"
   ]
  },
  {
   "cell_type": "code",
   "execution_count": null,
   "metadata": {},
   "outputs": [],
   "source": [
    "\n",
    "param_grid = {'criterion': ['gini', 'entropy'], 'n_estimators':[50,100,200],'min_samples_split' : range(2,300,50),'min_samples_leaf' : range(2,300,50),'max_depth': np.arange(1,3)}\n",
    "rf1 = GridSearchCV(RandomForestClassifier(), param_grid, cv=StratifiedKFold(15), scoring='accuracy', n_jobs=-1)\n",
    "rf1_fit = rf1.fit(X_train, y_train)\n",
    "\n",
    "rf_performance = roc_auc_score(y_test, rf1_fit.predict_proba(X_test)[:, 1])\n",
    "print(\"RandomForest: Area under the ROC curve = {}\".format(rf_performance))\n",
    "opt_rf1 = rf1_fit.best_estimator_\n",
    "print(\"{}\".format(rf1_fit.best_params_))\n",
    "\n",
    "for col, imp in zip(attributes, opt_rf1.feature_importances_):\n",
    "    print(col, imp)\n",
    "    "
   ]
  },
  {
   "cell_type": "code",
   "execution_count": null,
   "metadata": {},
   "outputs": [],
   "source": [
    "scores = cross_val_score(opt_rf1, X, y, cv=10)\n",
    "cvarf = ('Accuracy: %0.4f (+/- %0.2f)' % (scores.mean(), scores.std() * 2))\n",
    "print(cvarf)\n",
    "\n",
    "scores = cross_val_score(opt_rf1, X, y, cv=10, scoring='f1_macro')\n",
    "cvfrf = ('F1-score: %0.4f (+/- %0.2f)' % (scores.mean(), scores.std() * 2))\n",
    "print(cvfrf)\n",
    "\n",
    "y_predrfo = opt_rf1.predict(X_test)\n",
    "a3=('Accuracy %s' % accuracy_score(y_test, y_predrfo))\n",
    "print(a3)\n",
    "r3=('Recall: %s' %  recall_score(y_test, y_predrfo, average='weighted'))\n",
    "print(r3)\n",
    "p3=('Precision: %s' %  precision_score(y_test, y_predrfo, average='weighted'))\n",
    "print(p3)\n",
    "f3=('F1-score %s' % f1_score(y_test, y_predrfo, average='weighted'))\n",
    "print(f3)\n",
    "\n",
    "report3=(classification_report(y_test, y_predrfo))\n",
    "plt.figure()\n",
    "cm3 =confusion_matrix(y_test, y_predrfo)\n",
    "plot_confusion_matrix(cm3, classes=opt_rf1.classes_, normalize=True, title='Normalized confusion matrix')"
   ]
  },
  {
   "cell_type": "code",
   "execution_count": null,
   "metadata": {},
   "outputs": [],
   "source": [
    "fileName=(str(a2)+str(r2)+str(p2)+str(f2)+str(tree_performance)).replace(\" \", \"\")\n",
    "saveInfos(fileName,\n",
    "          opt_dt1.classes_,\n",
    "          opt_rf1.classes_, \n",
    "          rat,\n",
    "          tree_performance, \n",
    "          dt1_fit.best_params_, \n",
    "          graph,\n",
    "          attributes,\n",
    "          opt_dt1.feature_importances_, \n",
    "          cva, \n",
    "          cvf, \n",
    "          report1, \n",
    "          a1,\n",
    "          r1,\n",
    "          p1,\n",
    "          f1,\n",
    "          cm1,\n",
    "          report2,\n",
    "          a2,\n",
    "          r2,\n",
    "          p2,\n",
    "          f2,\n",
    "          cm2, \n",
    "          rf_performance, \n",
    "          rf1_fit.best_params_, \n",
    "          opt_rf1.feature_importances_, \n",
    "          cvarf, \n",
    "          cvfrf, \n",
    "          report3, \n",
    "          a3, \n",
    "          r3, \n",
    "          p3, \n",
    "          f3, \n",
    "          cm3\n",
    "         )\n"
   ]
  },
  {
   "cell_type": "markdown",
   "metadata": {},
   "source": [
    "# Multi Layer Perceptron"
   ]
  },
  {
   "cell_type": "code",
   "execution_count": null,
   "metadata": {},
   "outputs": [],
   "source": [
    "\n",
    "activation=['relu', 'tanh', 'logistic']\n",
    "solver=['lbfgs', 'sgd', 'adam'] \n",
    "alpha=[0.0001,1e-5,0.01,0.001]\n",
    "batch_size=[1,100]\n",
    "learning_rate=['constant'] \n",
    "learning_rate_init=[0.001,0.01,0.2,0.3, 0.8, 1] \n",
    "\n",
    "param_grid=dict(hidden_layer_sizes=(7,), activation=activation, batch_size=batch_size,learning_rate=learning_rate,learning_rate_init=learning_rate_init)\n",
    "mlp = MLPClassifier(random_state=100, max_iter=1000)\n",
    "grid = GridSearchCV(mlp, param_grid, cv=StratifiedKFold(15), scoring='f1')\n",
    "\n",
    "grid_result=grid.fit(X_train, y_train)\n",
    "nn_performance = roc_auc_score(y_test, grid_result.predict_proba(X_test)[:, 1])\n",
    "print(\"NeuralNet: Area under the ROC curve = {}\".format(nn_performance))\n",
    "opt_nn = grid_result.best_estimator_\n",
    "print(\"{}\".format(grid_result.best_params_))\n",
    "\n"
   ]
  },
  {
   "cell_type": "code",
   "execution_count": null,
   "metadata": {},
   "outputs": [],
   "source": [
    "y_pred3 = opt_nn.predict(X_train)\n",
    "a1 = ('Accuracy %s' % accuracy_score(y_train, y_pred3))\n",
    "print(a1)\n",
    "r1 = ('Recall: %s' %  recall_score(y_train, y_pred3, average='weighted'))\n",
    "print(r1)\n",
    "p1 = ('Precision: %s' %  precision_score(y_train, y_pred3, average='weighted'))\n",
    "print(p1)\n",
    "f1=('F1-score %s' % f1_score(y_train, y_pred3, average='weighted'))\n",
    "print(f1)\n",
    "report3 = classification_report(y_train, y_pred3)\n",
    "print(report3)\n",
    "cm4 =confusion_matrix(y_train, y_pred3)\n",
    "plot_confusion_matrix2(cm4, classes=opt_nn.classes_, normalize=True, title='Normalized confusion matrix')\n"
   ]
  },
  {
   "cell_type": "code",
   "execution_count": null,
   "metadata": {},
   "outputs": [],
   "source": [
    "\n",
    "y_pred4 = opt_nn.predict(X_test)\n",
    "a2=('Accuracy %s' % accuracy_score(y_test, y_pred4))\n",
    "print(a2)\n",
    "r2=('Recall: %s' %  recall_score(y_test, y_pred4, average='weighted'))\n",
    "print(r2)\n",
    "p2=('Precision: %s' %  precision_score(y_test, y_pred4, average='weighted'))\n",
    "print(p2)\n",
    "f2=('F1-score %s' % f1_score(y_test, y_pred4, average='weighted'))\n",
    "print(f2)\n",
    "\n",
    "report4 = classification_report(y_test, y_pred4)\n",
    "print(report4)\n",
    "cm5 =confusion_matrix(y_test, y_pred4)\n",
    "plot_confusion_matrix2(cm5, classes=opt_nn.classes_, normalize=True, title='Normalized confusion matrix')"
   ]
  },
  {
   "cell_type": "code",
   "execution_count": 3,
   "metadata": {},
   "outputs": [
    {
     "ename": "ModuleNotFoundError",
     "evalue": "No module named 'sklearn'",
     "output_type": "error",
     "traceback": [
      "\u001b[0;31m---------------------------------------------------------------------------\u001b[0m",
      "\u001b[0;31mModuleNotFoundError\u001b[0m                       Traceback (most recent call last)",
      "\u001b[0;32m<ipython-input-3-8da899a5337a>\u001b[0m in \u001b[0;36m<module>\u001b[0;34m\u001b[0m\n\u001b[0;32m----> 1\u001b[0;31m \u001b[0;32mfrom\u001b[0m \u001b[0msklearn\u001b[0m\u001b[0;34m.\u001b[0m\u001b[0mpreprocessing\u001b[0m \u001b[0;32mimport\u001b[0m \u001b[0mLabelEncoder\u001b[0m\u001b[0;34m\u001b[0m\u001b[0;34m\u001b[0m\u001b[0m\n\u001b[0m\u001b[1;32m      2\u001b[0m \u001b[0;34m\u001b[0m\u001b[0m\n\u001b[1;32m      3\u001b[0m \u001b[0;34m\u001b[0m\u001b[0m\n\u001b[1;32m      4\u001b[0m \u001b[0mdes\u001b[0m \u001b[0;34m=\u001b[0m \u001b[0mpd\u001b[0m\u001b[0;34m.\u001b[0m\u001b[0mread_csv\u001b[0m\u001b[0;34m(\u001b[0m\u001b[0;34m\"/home/alessandro/Desktop/all/credit_default_test.csv\"\u001b[0m\u001b[0;34m)\u001b[0m\u001b[0;34m\u001b[0m\u001b[0;34m\u001b[0m\u001b[0m\n\u001b[1;32m      5\u001b[0m \u001b[0;34m\u001b[0m\u001b[0m\n",
      "\u001b[0;31mModuleNotFoundError\u001b[0m: No module named 'sklearn'"
     ]
    }
   ],
   "source": [
    "from sklearn.preprocessing import LabelEncoder\n",
    "\n",
    "\n",
    "des = pd.read_csv(\"/home/alessandro/Desktop/all/credit_default_test.csv\")\n",
    "\n",
    "des = des.drop(columns=[\"index\"])\n",
    "\n",
    "des['sex'].fillna(des['sex'].mode()[0], inplace=True)\n",
    "\n",
    "des['education'].fillna(des['education'].mode()[0], inplace=True)\n",
    "\n",
    "des['status'].fillna(des['status'].mode()[0], inplace=True)\n",
    "\n",
    "label_encoders = dict()\n",
    "column2encode = ['sex']\n",
    "\n",
    "for col in column2encode:\n",
    "    le = LabelEncoder()\n",
    "    des[col] = le.fit_transform(des[col])\n",
    "    label_encoders[col] = le\n",
    "\n",
    "label_encoders = dict()\n",
    "column2encode = ['education']\n",
    "\n",
    "for col in column2encode:\n",
    "    le = LabelEncoder()\n",
    "    des[col] = le.fit_transform(des[col])\n",
    "    label_encoders[col] = le\n",
    "    \n",
    "label_encoders = dict()\n",
    "column2encode = ['status']\n",
    "\n",
    "for col in column2encode:\n",
    "    le = LabelEncoder()\n",
    "    des[col] = le.fit_transform(des[col])\n",
    "    label_encoders[col] = le\n",
    "\n",
    "des[\"sums\"] = des.iloc[:, 5:10].sum(axis=1)\n",
    "des[\"g3\"] = des.iloc[:, 5:10].ge(1,axis=1).sum(axis=1)\n",
    "\n",
    "y_pred = opt_nn.predict(des)\n",
    "da = pd.DataFrame(y_pred)\n",
    "da['credit_default'].replace({0: \"no\", 1: \"yes\"}, inplace=True)\n",
    "\n",
    "da.to_csv(\"/home/pred.csv\", encoding='utf-8', index=True)"
   ]
  },
  {
   "cell_type": "code",
   "execution_count": null,
   "metadata": {},
   "outputs": [],
   "source": []
  }
 ],
 "metadata": {
  "kernelspec": {
   "display_name": "Python 3",
   "language": "python",
   "name": "python3"
  },
  "language_info": {
   "codemirror_mode": {
    "name": "ipython",
    "version": 3
   },
   "file_extension": ".py",
   "mimetype": "text/x-python",
   "name": "python",
   "nbconvert_exporter": "python",
   "pygments_lexer": "ipython3",
   "version": "3.6.7"
  }
 },
 "nbformat": 4,
 "nbformat_minor": 2
}
