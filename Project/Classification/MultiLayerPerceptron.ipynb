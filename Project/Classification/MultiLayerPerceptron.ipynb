{
 "cells": [
  {
   "cell_type": "code",
   "execution_count": null,
   "metadata": {},
   "outputs": [],
   "source": [
    "import pandas as pd\n",
    "import numpy as np\n",
    "from sklearn.metrics import confusion_matrix\n",
    "from collections import Counter\n",
    "from sklearn.tree import DecisionTreeClassifier\n",
    "from sklearn.model_selection import train_test_split\n",
    "from imblearn.under_sampling import RandomUnderSampler \n",
    "from sklearn.model_selection import GridSearchCV\n",
    "from sklearn.metrics import roc_auc_score\n",
    "from sklearn.model_selection import cross_val_score\n",
    "from sklearn.metrics import accuracy_score, f1_score, recall_score, precision_score, classification_report\n",
    "from sklearn.ensemble import GradientBoostingClassifier\n",
    "import pydotplus\n",
    "from sklearn import tree\n",
    "from IPython.display import Image\n",
    "import itertools\n",
    "import numpy as np\n",
    "import matplotlib.pyplot as plt\n",
    "from imblearn.over_sampling import SMOTE, ADASYN\n",
    "from sklearn.datasets import make_classification\n",
    "from sklearn.model_selection import StratifiedKFold\n",
    "from sklearn.feature_selection import RFE\n",
    "from sklearn.ensemble import ExtraTreesClassifier\n",
    "from sklearn.feature_selection import RFECV\n",
    "from sklearn.ensemble import RandomForestClassifier\n",
    "import os, errno\n",
    "import matplotlib.pyplot as plt\n",
    "from sklearn.neural_network import MLPClassifier\n",
    "from sklearn.cluster import DBSCAN"
   ]
  },
  {
   "cell_type": "markdown",
   "metadata": {},
   "source": [
    "# Utilities "
   ]
  },
  {
   "cell_type": "code",
   "execution_count": null,
   "metadata": {},
   "outputs": [],
   "source": [
    "\n",
    "def plot_confusion_matrix(cm, classes,\n",
    "                          normalize=False,\n",
    "                          title='Confusion matrix',\n",
    "                          cmap=plt.cm.Blues, save=\"False\", path=\"/home/\"):\n",
    "    \"\"\"\n",
    "    This function prints and plots the confusion matrix.\n",
    "    Normalization can be applied by setting `normalize=True`.\n",
    "    \"\"\"\n",
    "    if normalize:\n",
    "        cm = cm.astype('float') / cm.sum(axis=1)[:, np.newaxis]\n",
    "        print(\"Normalized confusion matrix\")\n",
    "    else:\n",
    "        print('Confusion matrix, without normalization')\n",
    "\n",
    "    print(cm)\n",
    "\n",
    "    plt.imshow(cm, interpolation='nearest', cmap=cmap)\n",
    "    plt.title(title)\n",
    "    plt.colorbar()\n",
    "    tick_marks = np.arange(len(classes))\n",
    "    plt.xticks(tick_marks, classes, rotation=45)\n",
    "    plt.yticks(tick_marks, classes)\n",
    "\n",
    "    fmt = '.2f' if normalize else 'd'\n",
    "    thresh = cm.max() / 2.\n",
    "    for i, j in itertools.product(range(cm.shape[0]), range(cm.shape[1])):\n",
    "        plt.text(j, i, format(cm[i, j], fmt),\n",
    "                 horizontalalignment=\"center\",\n",
    "                 color=\"white\" if cm[i, j] > thresh else \"black\")\n",
    "\n",
    "    plt.ylabel('True label')\n",
    "    plt.xlabel('Predicted label')\n",
    "    plt.tight_layout()\n",
    "    if save is True:\n",
    "        plt.savefig(path+\".pdf\")\n",
    "    plt.clf()"
   ]
  },
  {
   "cell_type": "markdown",
   "metadata": {},
   "source": [
    "# Filtering Attributes"
   ]
  },
  {
   "cell_type": "code",
   "execution_count": null,
   "metadata": {},
   "outputs": [],
   "source": [
    "reduced = pd.read_csv(\"/home/dataset.csv\")\n",
    "reduced[\"sums\"] = reduced.iloc[:, 5:10].sum(axis=1)\n",
    "reduced[\"g3\"] = reduced.iloc[:, 5:10].ge(1,axis=1).sum(axis=1)\n",
    "\n",
    "cols = reduced.columns.tolist()\n",
    "cols.remove('age')\n",
    "cols.remove('status')\n",
    "cols.remove('education')\n",
    "cols.remove('sex')\n",
    "cols.remove('credit_default')\n",
    "cols.remove('pa-apr')\n",
    "cols.remove('pa-may')\n",
    "cols.remove('pa-jun')\n",
    "cols.remove('pa-jul')\n",
    "cols.remove('pa-aug')\n",
    "cols.remove('pa-sep')\n",
    "cols.remove('ps-apr')\n",
    "cols.remove('ps-may')\n",
    "cols.remove('ps-jun')\n",
    "cols.remove('ps-jul')\n",
    "cols.remove('ps-aug')\n",
    "cols.remove('ps-sep')\n",
    "cols.remove('sums')\n",
    "cols.remove('ba-apr')\n",
    "cols.remove('ba-may')\n",
    "cols.remove('ba-jun')\n",
    "cols.remove('ba-jul')\n",
    "cols.remove('ba-aug')\n",
    "cols.remove('ba-sep')\n",
    "cols.remove('g3')\n",
    "\n",
    "    \n",
    "reduced = reduced.filter(['g3','ps-sep','ps-apr','ps-jul','ps-aug','ps-jun','ps-may','credit_default'], axis=1)\n",
    "#reduced = reduced.filter(['ps-sep','g3','ps-apr','credit_default'], axis=1)\n",
    "#reduced= reduced.drop(columns=['limit','varps','ps-apr','ps-may','ps-aug','ps-jul','ps-jun','ba-sep','ba-sep','ba-aug','ba-jul','ba-jun','ba-may','ba-apr','pa-sep','pa-aug','pa-jun','pa-may','pa-apr','sums'])\n",
    "#print(reduced.head)\n",
    "\n"
   ]
  },
  {
   "cell_type": "markdown",
   "metadata": {},
   "source": [
    "# Spit dataset in Training and Test set"
   ]
  },
  {
   "cell_type": "code",
   "execution_count": null,
   "metadata": {},
   "outputs": [],
   "source": [
    "attributes = [col for col in reduced.columns if col != 'credit_default']\n",
    "X = reduced[attributes]\n",
    "y = reduced['credit_default']\n",
    "X_train, X_test, y_train, y_test = train_test_split(X, y,test_size=0.3, random_state=100, stratify=y)"
   ]
  },
  {
   "cell_type": "markdown",
   "metadata": {},
   "source": [
    "# UnderSampling"
   ]
  },
  {
   "cell_type": "code",
   "execution_count": null,
   "metadata": {},
   "outputs": [],
   "source": [
    "rat=1\n",
    "\n",
    "sm = RandomUnderSampler(ratio=rat, random_state=42)\n",
    "\n",
    "X_train, y_train = sm.fit_sample(X_train, y_train)\n",
    "X_train.shape, y_train.shape \n",
    "print(X_train.shape)\n",
    "print(y_train.shape)\n",
    "print(X_test.shape)\n",
    "print(y_test.shape)"
   ]
  },
  {
   "cell_type": "markdown",
   "metadata": {},
   "source": [
    "# Multi Layer Perceptron"
   ]
  },
  {
   "cell_type": "code",
   "execution_count": null,
   "metadata": {},
   "outputs": [],
   "source": [
    "activation=['relu', 'tanh', 'logistic']\n",
    "solver=['lbfgs', 'sgd', 'adam'] \n",
    "alpha=[0.0001,1e-5,0.01,0.001]\n",
    "batch_size=[1,100]\n",
    "learning_rate=['constant'] \n",
    "learning_rate_init=[0.001,0.01,0.2,0.3, 0.8, 1] \n",
    "\n",
    "param_grid=dict(hidden_layer_sizes=(7,), activation=activation, batch_size=batch_size,learning_rate=learning_rate,learning_rate_init=learning_rate_init)\n",
    "mlp = MLPClassifier(random_state=100, max_iter=1000)\n",
    "grid = GridSearchCV(mlp, param_grid, cv=StratifiedKFold(15), scoring='f1')\n",
    "\n",
    "grid_result=grid.fit(X_train, y_train)\n",
    "nn_performance = roc_auc_score(y_test, grid_result.predict_proba(X_test)[:, 1])\n",
    "print(\"NeuralNet: Area under the ROC curve = {}\".format(nn_performance))\n",
    "opt_nn = grid_result.best_estimator_\n",
    "print(\"{}\".format(grid_result.best_params_))\n"
   ]
  },
  {
   "cell_type": "markdown",
   "metadata": {},
   "source": [
    "# Scores"
   ]
  },
  {
   "cell_type": "code",
   "execution_count": null,
   "metadata": {},
   "outputs": [],
   "source": [
    "y_pred3 = opt_nn.predict(X_train)\n",
    "a1 = ('Accuracy %s' % accuracy_score(y_train, y_pred3))\n",
    "print(a1)\n",
    "r1 = ('Recall: %s' %  recall_score(y_train, y_pred3, average='weighted'))\n",
    "print(r1)\n",
    "p1 = ('Precision: %s' %  precision_score(y_train, y_pred3, average='weighted'))\n",
    "print(p1)\n",
    "f1=('F1-score %s' % f1_score(y_train, y_pred3, average='weighted'))\n",
    "print(f1)\n",
    "report3 = classification_report(y_train, y_pred3)\n",
    "print(report3)\n",
    "cm4 =confusion_matrix(y_train, y_pred3)\n",
    "plot_confusion_matrix2(cm4, classes=opt_nn.classes_, normalize=True, title='Normalized confusion matrix')"
   ]
  },
  {
   "cell_type": "code",
   "execution_count": null,
   "metadata": {},
   "outputs": [],
   "source": [
    "y_pred3 = opt_nn.predict(X_train)\n",
    "a1 = ('Accuracy %s' % accuracy_score(y_train, y_pred3))\n",
    "print(a1)\n",
    "r1 = ('Recall: %s' %  recall_score(y_train, y_pred3, average='weighted'))\n",
    "print(r1)\n",
    "p1 = ('Precision: %s' %  precision_score(y_train, y_pred3, average='weighted'))\n",
    "print(p1)\n",
    "f1=('F1-score %s' % f1_score(y_train, y_pred3, average='weighted'))\n",
    "print(f1)\n",
    "report3 = classification_report(y_train, y_pred3)\n",
    "print(report3)\n",
    "cm4 =confusion_matrix(y_train, y_pred3)\n",
    "plot_confusion_matrix2(cm4, classes=opt_nn.classes_, normalize=True, title='Normalized confusion matrix')\n"
   ]
  },
  {
   "cell_type": "code",
   "execution_count": null,
   "metadata": {},
   "outputs": [],
   "source": [
    "y_pred4 = opt_nn.predict(X_test)\n",
    "a2=('Accuracy %s' % accuracy_score(y_test, y_pred4))\n",
    "print(a2)\n",
    "r2=('Recall: %s' %  recall_score(y_test, y_pred4, average='weighted'))\n",
    "print(r2)\n",
    "p2=('Precision: %s' %  precision_score(y_test, y_pred4, average='weighted'))\n",
    "print(p2)\n",
    "f2=('F1-score %s' % f1_score(y_test, y_pred4, average='weighted'))\n",
    "print(f2)\n",
    "\n",
    "report4 = classification_report(y_test, y_pred4)\n",
    "print(report4)\n",
    "cm5 =confusion_matrix(y_test, y_pred4)\n",
    "plot_confusion_matrix2(cm5, classes=opt_nn.classes_, normalize=True, title='Normalized confusion matrix')"
   ]
  }
 ],
 "metadata": {
  "kernelspec": {
   "display_name": "Python 3",
   "language": "python",
   "name": "python3"
  },
  "language_info": {
   "codemirror_mode": {
    "name": "ipython",
    "version": 3
   },
   "file_extension": ".py",
   "mimetype": "text/x-python",
   "name": "python",
   "nbconvert_exporter": "python",
   "pygments_lexer": "ipython3",
   "version": "3.6.7"
  }
 },
 "nbformat": 4,
 "nbformat_minor": 2
}
